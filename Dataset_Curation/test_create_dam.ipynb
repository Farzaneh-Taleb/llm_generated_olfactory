{
 "cells": [
  {
   "cell_type": "code",
   "id": "initial_id",
   "metadata": {
    "collapsed": true,
    "ExecuteTime": {
     "end_time": "2024-06-24T07:42:04.542361Z",
     "start_time": "2024-06-24T07:42:04.537108Z"
    }
   },
   "source": [
    "import os\n",
    "import sys\n",
    "parent_dir = \"/Midgard/home/farzantn/phd/Olfaction/MoLFormer_N2024\"\n",
    "sys.path.append(parent_dir)\n",
    "parent_dir=\"/Midgard/home/farzantn/mambaforge/envs/MolTran_CUDA11_cuda/lib/python3.8\"\n",
    "sys.path.append(parent_dir)"
   ],
   "execution_count": 1,
   "outputs": []
  },
  {
   "metadata": {
    "ExecuteTime": {
     "end_time": "2024-06-24T07:42:06.244906Z",
     "start_time": "2024-06-24T07:42:05.088618Z"
    }
   },
   "cell_type": "code",
   "source": [
    "from create_alva_y import create_alva_y\n",
    "from constants import *"
   ],
   "id": "ce0a16784c056e62",
   "execution_count": 2,
   "outputs": []
  },
  {
   "metadata": {
    "ExecuteTime": {
     "end_time": "2024-06-24T07:42:11.623457Z",
     "start_time": "2024-06-24T07:42:07.292428Z"
    }
   },
   "cell_type": "code",
   "source": [
    "# input_file_alva = '/local_storage/datasets/farzaneh/alignment_olfaction_datasets/curated_datasets/alva/gslf_molecules_alva_17Apr.csv'\n",
    "# input_file_data = '/local_storage/datasets/farzaneh/alignment_olfaction_datasets/curated_datasets/embeddings/pom/gslf_pom_embeddings_Apr17.csv'\n",
    "# create_alva_y(input_file_alva,input_file_data, \"./gslf_molecules_alva_y_Apr17.csv\")\n",
    "\n",
    "\n",
    "input_file_alva = '/local_storage/datasets/farzaneh/alignment_olfaction_datasets/curated_datasets/alva/snitz_molecules_alva_17Apr.csv'\n",
    "input_file_data = '/local_storage/datasets/farzaneh/alignment_olfaction_datasets/curated_datasets/embeddings/pom/snitz_pom_embeddings_Apr17.csv'\n",
    "create_alva_y(input_file_alva,input_file_data, \"./snitz_molecules_alva_y_Apr17.csv\")\n",
    "\n",
    "\n",
    "input_file_alva = '/local_storage/datasets/farzaneh/alignment_olfaction_datasets/curated_datasets/alva/ravia_molecules_alva_17Apr.csv'\n",
    "input_file_data = '/local_storage/datasets/farzaneh/alignment_olfaction_datasets/curated_datasets/embeddings/pom/ravia_pom_embeddings_Apr17.csv'\n",
    "create_alva_y(input_file_alva,input_file_data, \"./ravia_molecules_alva_y_Apr17.csv\")"
   ],
   "id": "4dbe60ee5adb7fce",
   "execution_count": 3,
   "outputs": []
  },
  {
   "metadata": {},
   "cell_type": "code",
   "execution_count": null,
   "source": "",
   "id": "78553956025cb2d3",
   "outputs": []
  }
 ],
 "metadata": {
  "kernelspec": {
   "display_name": "Python 3",
   "language": "python",
   "name": "python3"
  },
  "language_info": {
   "codemirror_mode": {
    "name": "ipython",
    "version": 2
   },
   "file_extension": ".py",
   "mimetype": "text/x-python",
   "name": "python",
   "nbconvert_exporter": "python",
   "pygments_lexer": "ipython2",
   "version": "2.7.6"
  }
 },
 "nbformat": 4,
 "nbformat_minor": 5
}
