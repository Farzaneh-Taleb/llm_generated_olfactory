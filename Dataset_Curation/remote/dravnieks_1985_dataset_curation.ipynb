{
 "cells": [
  {
   "cell_type": "code",
   "id": "833d9992-13d8-4df9-bf8b-7c25e96c6406",
   "metadata": {
    "ExecuteTime": {
     "end_time": "2024-07-01T15:23:27.556131Z",
     "start_time": "2024-07-01T15:23:07.147458Z"
    }
   },
   "source": [
    "import pyrfume\n",
    "import pandas as pd\n",
    "from tqdm import tqdm\n",
    "tqdm.pandas()\n",
    "from scipy.io import loadmat\n",
    "import numpy as np\n",
    "import pubchempy as pcp\n",
    "from rdkit import Chem\n"
   ],
   "outputs": [],
   "execution_count": 1
  },
  {
   "cell_type": "code",
   "id": "0791371a-4454-420e-a63c-ed3fd48bd262",
   "metadata": {
    "ExecuteTime": {
     "end_time": "2024-07-01T15:23:45.113373Z",
     "start_time": "2024-07-01T15:23:45.107733Z"
    }
   },
   "source": [
    "def find_smiles(x):\n",
    "    \n",
    "    if x!=-1:\n",
    "        c = pcp.Compound.from_cid(int(x))\n",
    "        smiles= c.isomeric_smiles\n",
    "        return smiles\n",
    "    else:\n",
    "        return -1\n",
    "    \n",
    "    \n",
    "def canonical_smiles(smiles):\n",
    "    return Chem.MolToSmiles(Chem.MolFromSmiles(smiles), isomericSmiles = True)\n",
    "\n",
    "def remove_stereo(smiles):\n",
    "    if smiles!=-1:\n",
    "    # print(smiles)\n",
    "        smiles = smiles.replace('@','')\n",
    "        smiles = smiles.replace('/','')\n",
    "        smiles = smiles.replace('\\\\','')\n",
    "        return canonical_smiles(smiles)\n",
    "    else:\n",
    "        return -1"
   ],
   "outputs": [],
   "execution_count": 2
  },
  {
   "cell_type": "code",
   "id": "703aef63-9f10-4546-952b-4669bbd4c7bc",
   "metadata": {
    "ExecuteTime": {
     "end_time": "2024-07-01T15:23:47.250959Z",
     "start_time": "2024-07-01T15:23:45.714983Z"
    }
   },
   "source": [
    "molecules= pyrfume.load_data('dravnieks_1985/molecules.csv')\n",
    "stimuli= pyrfume.load_data('dravnieks_1985/stimuli.csv')\n",
    "behavior_1= pyrfume.load_data('dravnieks_1985/behavior_1.csv')\n",
    "behavior_2= pyrfume.load_data('dravnieks_1985/behavior_2.csv')"
   ],
   "outputs": [],
   "execution_count": 3
  },
  {
   "metadata": {
    "ExecuteTime": {
     "end_time": "2024-06-30T07:46:37.847456Z",
     "start_time": "2024-06-30T07:46:37.811025Z"
    }
   },
   "cell_type": "code",
   "source": "pyrfume.load_manifest('dravnieks_1985')",
   "id": "598c77fb2bb32a6b",
   "outputs": [
    {
     "data": {
      "text/plain": [
       "{'source': {'doi': '10.1520/DS61-EB',\n",
       "  'title': 'Atlas of Odor Character Profiles',\n",
       "  'authors': 'A Dravnieks',\n",
       "  'tags': 'human;odorCharacter;academic',\n",
       "  'extra': \"Originally compiled by Dravnieks, digitization performed by Alice Roche (molecules, Bensafi lab) and Rafi Haddad (behavior, Sobel lab) to produce 'raw' material; mixtures subsequently removed in processing pipeline.  See also Dravnieks, 1982 (Science) for description of the 'applicability' and 'use' measures.\"},\n",
       " 'raw': {'Dravnieks_molecules.xlsx': 'Information about stimuli in Dravnieks, 1985 as digitized by Bensafi lab',\n",
       "  'DravnieksGrid.xlsx': 'Information about behavioral data in Dravnieks, 1985 as diitized by Sobel lab'},\n",
       " 'processed': {'molecules.csv': 'Molecules used',\n",
       "  'stimuli.csv': 'Stimuls mapped to CID and experimental conditions',\n",
       "  'behavior_1.csv': 'Applicability of descriptors (average across panelists)',\n",
       "  'behavior_2.csv': 'Use of descriptors (average across panelists)'},\n",
       " 'code': {'main.py': 'Processing workflow'}}"
      ]
     },
     "execution_count": 21,
     "metadata": {},
     "output_type": "execute_result"
    }
   ],
   "execution_count": 21
  },
  {
   "metadata": {},
   "cell_type": "code",
   "outputs": [],
   "execution_count": null,
   "source": "",
   "id": "bcacc2b7394bc4ac"
  },
  {
   "metadata": {},
   "cell_type": "code",
   "outputs": [],
   "execution_count": null,
   "source": "molecules.head(5)",
   "id": "598ad98a10a10983"
  },
  {
   "metadata": {},
   "cell_type": "code",
   "outputs": [],
   "execution_count": null,
   "source": "behavior_1.head(5)",
   "id": "7dff7b05f040a27"
  },
  {
   "metadata": {},
   "cell_type": "code",
   "outputs": [],
   "execution_count": null,
   "source": "stimuli.head(5)",
   "id": "8fdcc25347f77a3e"
  },
  {
   "metadata": {
    "ExecuteTime": {
     "end_time": "2024-07-01T15:33:49.697173Z",
     "start_time": "2024-07-01T15:33:49.690874Z"
    }
   },
   "cell_type": "code",
   "source": [
    "# Import pandas\n",
    "\n",
    "\n",
    "# Merge molecules and behavior dataframes on 'cid' and keep Stimulus as the index\n",
    "beh_stim = pd.merge(behavior_1, stimuli, left_index=True, right_index=True)\n",
    "beh_stim_mol_1 = pd.merge(beh_stim, molecules, on='CID')\n",
    "\n",
    "\n",
    "beh_stim = pd.merge(behavior_2, stimuli, left_index=True, right_index=True)\n",
    "beh_stim_mol_2 = pd.merge(beh_stim, molecules, on='CID')\n",
    "\n",
    "\n"
   ],
   "id": "1a5cc399d93dab98",
   "outputs": [],
   "execution_count": 29
  },
  {
   "cell_type": "code",
   "id": "a2c09b0c-fdc2-4969-9959-2771affcfa1e",
   "metadata": {
    "ExecuteTime": {
     "end_time": "2024-06-30T07:58:11.204569Z",
     "start_time": "2024-06-30T07:58:11.063919Z"
    }
   },
   "source": [
    "beh_stim_mol_1['nonStereoSMILES'] = beh_stim_mol_2['IsomericSMILES'].apply(lambda x: remove_stereo(x))\n",
    "beh_stim_mol_2['nonStereoSMILES'] = beh_stim_mol_2['IsomericSMILES'].apply(lambda x: remove_stereo(x))"
   ],
   "outputs": [],
   "execution_count": 34
  },
  {
   "cell_type": "code",
   "id": "5bc0590e-a38f-4872-bcb2-476b3b8f78d5",
   "metadata": {
    "ExecuteTime": {
     "end_time": "2024-06-30T09:06:32.686464Z",
     "start_time": "2024-06-30T09:06:32.619737Z"
    }
   },
   "source": [
    "beh_stim_mol_1.to_csv('./dravnieks1985_applicability_1.csv')\n",
    "beh_stim_mol_2.to_csv('./dravnieks1985_use_2.csv')"
   ],
   "outputs": [],
   "execution_count": 37
  },
  {
   "metadata": {},
   "cell_type": "code",
   "outputs": [],
   "execution_count": null,
   "source": "",
   "id": "a68ce72b9ce20762"
  }
 ],
 "metadata": {
  "kernelspec": {
   "display_name": "Python 3 (ipykernel)",
   "language": "python",
   "name": "python3"
  },
  "language_info": {
   "codemirror_mode": {
    "name": "ipython",
    "version": 3
   },
   "file_extension": ".py",
   "mimetype": "text/x-python",
   "name": "python",
   "nbconvert_exporter": "python",
   "pygments_lexer": "ipython3",
   "version": "3.8.18"
  }
 },
 "nbformat": 4,
 "nbformat_minor": 5
}
