{
 "cells": [
  {
   "cell_type": "code",
   "execution_count": null,
   "id": "initial_id",
   "metadata": {
    "collapsed": true
   },
   "source": [
    "# non_linear_model\n",
    "modeldeepchem_gslf = create_linear_classifier(gs_lf_tasks, 1,dataset_gslf)\n",
    "metric_gslf = dc.metrics.Metric(dc.metrics.roc_auc_score)\n",
    "\n",
    "modeldeepchem_gslf,train_scores_gslf,test_scores_gslf,losses_gslf= run_linear_classifier(modeldeepchem_gslf,embedding_train_dataset_gslf,embedding_test_dataset_gslf,metric_gslf,'roc_auc_score',nb_epoch = 100)\n",
    "\n"
   ],
   "outputs": []
  },
  {
   "metadata": {},
   "cell_type": "code",
   "execution_count": null,
   "source": [
    "def prepare_ravia_similarity_mols2(df_ravia_similarity_mean,lm,tokenizer,modeldeepchem_gslf):\n",
    "    df_ravia_mean_mols1 = df_ravia_similarity_mean[['Stimulus 1-IsomericSMILES','Stimulus 1-nonStereoSMILES','CID Stimulus 1']].drop_duplicates().reset_index(drop=True)\n",
    "    df_ravia_mean_mols2 = df_ravia_similarity_mean[['Stimulus 2-IsomericSMILES','Stimulus 2-nonStereoSMILES','CID Stimulus 2']].drop_duplicates().reset_index(drop=True).rename(columns={'Stimulus 2-nonStereoSMILES': 'Stimulus 1-nonStereoSMILES','Stimulus 2-IsomericSMILES':'Stimulus 1-IsomericSMILES', 'CID Stimulus 2': 'CID Stimulus 1' })\n",
    "    df_ravia_mols= pd.concat([df_ravia_mean_mols1, df_ravia_mean_mols2], ignore_index=True, axis=0).reset_index(drop=True)\n",
    "    df_ravia_mols=df_ravia_mols.drop_duplicates().reset_index(drop=True)\n",
    "    df_ravia_mols = df_ravia_mols.rename(columns={'Stimulus 1-IsomericSMILES': 'IsomericSMILES','Stimulus 1-nonStereoSMILES':'nonStereoSMILES', 'CID Stimulus 1': 'CID' })\n",
    "    mol_type=\"nonStereoSMILES\"\n",
    "\n",
    "\n",
    "    res=prepare_mols_helper(lm,tokenizer,df_ravia_mols,modeldeepchem=modeldeepchem_gslf)\n",
    "    if modeldeepchem_gslf is not None:\n",
    "        df_ravia_mols_embeddings_original,df_ravia_mols_layers_original,df_ravia_mols_embeddings,df_ravia_mols_embeddings_zscored,df_ravia_mols_layers,df_ravia_mols_layers_zscored,df_ravia_mols_embeddings_linear,df_ravia_mols_embeddings_linear_zscored=res\n",
    "        return df_ravia_mols,df_ravia_mols_embeddings_original,df_ravia_mols_layers_original,df_ravia_mols_embeddings,df_ravia_mols_embeddings_zscored,df_ravia_mols_layers,df_ravia_mols_layers_zscored,df_ravia_mols_embeddings_linear,df_ravia_mols_embeddings_linear_zscored\n",
    "    else:\n",
    "        df_ravia_mols_embeddings_original,df_ravia_mols_layers_original,df_ravia_mols_embeddings,df_ravia_mols_embeddings_zscored,df_ravia_mols_layers,df_ravia_mols_layers_zscored=res\n",
    "        return df_ravia_mols,df_ravia_mols_embeddings_original,df_ravia_mols_layers_original,df_ravia_mols_embeddings,df_ravia_mols_embeddings_zscored,df_ravia_mols_layers,df_ravia_mols_layers_zscored\n",
    "    # return df_ravia_mols,df_ravia_mols_embeddings_original,df_ravia_mols_layers_original,df_ravia_mols_embeddings,df_ravia_mols_embeddings_zscored,df_ravia_mols_layers,df_ravia_mols_layers_zscored,df_ravia_mols_embeddings_linear,df_ravia_mols_embeddings_linear_zscored\n"
   ],
   "id": "d321db52770402a3",
   "outputs": []
  },
  {
   "metadata": {},
   "cell_type": "code",
   "execution_count": null,
   "source": [
    "# df_ravia_similarity_mols,df_ravia_similarity_mols_embeddings_original,df_ravia_similarity_mols_layers_original\\\n",
    "# ,df_ravia_similarity_mols_embeddings,df_ravia_similarity_mols_embeddings_zscored,\\\n",
    "# df_ravia_similarity_mols_layers,df_ravia_similarity_mols_layers_zscored,df_ravia_similarity_mols_embeddings_linear\\\n",
    "# ,df_ravia_similarity_mols_embeddings_linear_zscored=prepare_ravia_similarity_mols2(df_ravia_similarity_mean,lm,tokenizer,modeldeepchem_gslf=None)"
   ],
   "id": "3c383041f52afd28",
   "outputs": []
  },
  {
   "metadata": {},
   "cell_type": "code",
   "execution_count": null,
   "source": [
    "def cosine_sim_helper(df_mols_embeddings,df_mols_embeddings_zscored,df_mols_layers,df_mols_layers_zscored,df_mols_embeddings_linear,df_mols_embeddings_linear_zscored):\n",
    "    \n",
    "    cosine_sim_df_mols_embeddings=cosine_similarity_df(df_mols_embeddings,'Combined')\n",
    "    cosine_sim_df_mols_embeddings_zscored=cosine_similarity_df(df_mols_embeddings_zscored,'Combined')\n",
    "    \n",
    "    \n",
    "    cosine_sim_df_mols_embeddings_linear=cosine_similarity_df(df_mols_embeddings_linear,'Combined')\n",
    "    cosine_sim_df_mols_embeddings_linear_zscored=cosine_similarity_df(df_mols_embeddings_linear_zscored,'Combined')\n",
    "    \n",
    "    ### Cosine similarity for all layers\n",
    "    cosine_sim_df_mols_layers = []\n",
    "    cosine_sim_df_mols_layers_zscored = []\n",
    "    # embedding = molecules_activations_embeddings_original[0]\n",
    "    for embeddings in df_mols_layers:\n",
    "        cosine_sim_df_mols_layers.append(cosine_similarity_df(embeddings,'Combined'))\n",
    "        \n",
    "    for embeddings in df_mols_layers_zscored:\n",
    "        cosine_sim_df_mols_layers_zscored.append(cosine_similarity_df(embeddings,'Combined'))\n",
    "        \n",
    "    return cosine_sim_df_mols_embeddings, cosine_sim_df_mols_embeddings_zscored, cosine_"
   ],
   "id": "cfb53c862aa024c1",
   "outputs": []
  }
 ],
 "metadata": {
  "kernelspec": {
   "display_name": "Python 3",
   "language": "python",
   "name": "python3"
  },
  "language_info": {
   "codemirror_mode": {
    "name": "ipython",
    "version": 2
   },
   "file_extension": ".py",
   "mimetype": "text/x-python",
   "name": "python",
   "nbconvert_exporter": "python",
   "pygments_lexer": "ipython2",
   "version": "2.7.6"
  }
 },
 "nbformat": 4,
 "nbformat_minor": 5
}
