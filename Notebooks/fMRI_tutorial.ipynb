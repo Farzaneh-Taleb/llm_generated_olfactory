{
 "cells": [
  {
   "metadata": {},
   "cell_type": "code",
   "execution_count": null,
   "source": [
    "import numpy as np\n",
    "import scipy\n",
    "import scipy.stats\n",
    "import matplotlib.pyplot as plt"
   ],
   "id": "4ead588af132de00",
   "outputs": []
  },
  {
   "cell_type": "code",
   "id": "initial_id",
   "metadata": {
    "collapsed": true,
    "ExecuteTime": {
     "end_time": "2024-06-07T11:25:52.790897Z",
     "start_time": "2024-06-07T11:25:52.782948Z"
    }
   },
   "source": [
    "def explainable_variance(data, bias_correction=True, do_zscore=True):\n",
    "    \"\"\"Compute explainable variance for a set of voxels.\n",
    "\n",
    "    Parameters\n",
    "    ----------\n",
    "    data : array of shape (n_repeats, n_times, n_voxels)\n",
    "        fMRI responses of the repeated test set.\n",
    "    bias_correction: bool\n",
    "        Perform bias correction based on the number of repetitions.\n",
    "    do_zscore: bool\n",
    "        z-score the data in time. Only set to False if your data time courses\n",
    "        are already z-scored.\n",
    "\n",
    "    Returns\n",
    "    -------\n",
    "    ev : array of shape (n_voxels, )\n",
    "        Explainable variance per voxel.\n",
    "    \"\"\"\n",
    "    if do_zscore:\n",
    "        data = scipy.stats.zscore(data, axis=1)\n",
    "\n",
    "    mean_var = data.var(axis=1, dtype=np.float64, ddof=1).mean(axis=0)\n",
    "    var_mean = data.mean(axis=0).var(axis=0, dtype=np.float64, ddof=1)\n",
    "    ev = var_mean / mean_var\n",
    "\n",
    "    if bias_correction:\n",
    "        n_repeats = data.shape[0]\n",
    "        ev = ev - (1 - ev) / (n_repeats - 1)\n",
    "    return ev\n"
   ],
   "execution_count": 1,
   "outputs": []
  },
  {
   "metadata": {},
   "cell_type": "code",
   "execution_count": null,
   "source": "ev = explainable_variance(Y_test)\n",
   "id": "3d5f9248299a8c27",
   "outputs": []
  },
  {
   "metadata": {},
   "cell_type": "code",
   "execution_count": null,
   "source": [
    "voxel_1 = np.argmax(ev)\n",
    "time = np.arange(Y_test.shape[1]) * 2  # one time point every 2 seconds\n",
    "plt.figure(figsize=(10, 3))\n",
    "plt.plot(time, Y_test[:, :, voxel_1].T, color='C0', alpha=0.5)\n",
    "plt.plot(time, Y_test[:, :, voxel_1].mean(0), color='C1', label='average')\n",
    "plt.xlabel(\"Time (sec)\")\n",
    "plt.title(\"Voxel with large explainable variance (%.2f)\" % ev[voxel_1])\n",
    "plt.yticks([])\n",
    "plt.legend()\n",
    "plt.tight_layout()\n",
    "plt.show()"
   ],
   "id": "547c2ff7b97fc9ad",
   "outputs": []
  }
 ],
 "metadata": {
  "kernelspec": {
   "display_name": "Python 3",
   "language": "python",
   "name": "python3"
  },
  "language_info": {
   "codemirror_mode": {
    "name": "ipython",
    "version": 2
   },
   "file_extension": ".py",
   "mimetype": "text/x-python",
   "name": "python",
   "nbconvert_exporter": "python",
   "pygments_lexer": "ipython2",
   "version": "2.7.6"
  }
 },
 "nbformat": 4,
 "nbformat_minor": 5
}
