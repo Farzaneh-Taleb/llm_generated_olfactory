{
 "cells": [
  {
   "cell_type": "markdown",
   "metadata": {
    "tags": []
   },
   "source": [
    "# Load checkpoint and imports"
   ]
  },
  {
   "metadata": {
    "ExecuteTime": {
     "end_time": "2024-06-26T09:51:33.008965Z",
     "start_time": "2024-06-26T09:51:33.006576Z"
    }
   },
   "cell_type": "code",
   "source": [
    "import os\n",
    "import sys\n",
    "parent_dir = \"/Midgard/home/farzantn/phd/Olfaction/MoLFormer_N2024\"\n",
    "sys.path.append(parent_dir)\n",
    "parent_dir=\"/Midgard/home/farzantn/mambaforge/envs/MolTran_CUDA11_cuda/lib/python3.8\"\n",
    "sys.path.append(parent_dir)"
   ],
   "execution_count": 1,
   "outputs": []
  },
  {
   "cell_type": "code",
   "metadata": {
    "ExecuteTime": {
     "end_time": "2024-06-26T09:51:43.052538Z",
     "start_time": "2024-06-26T09:51:33.011062Z"
    }
   },
   "source": [
    "import warnings\n",
    "device_name='cuda'\n",
    "\n",
    "from datetime import datetime\n",
    "from argparse import Namespace\n",
    "import yaml\n",
    "import os\n",
    "import pandas as pd\n",
    "from rdkit import Chem\n",
    "print(os.getcwd())\n",
    "import torch\n",
    "from sklearn.decomposition import PCA\n",
    "import matplotlib.pyplot as plt\n",
    "import numpy as np\n",
    "from custom_utils.tokenizer.tokenizer import MolTranBertTokenizer\n",
    "from sklearn.model_selection import train_test_split\n",
    "import rdkit\n",
    "from sklearn.multioutput import MultiOutputClassifier\n",
    "from custom_utils.data_utils import get_class_imbalance_ratio\n",
    "# from openpom.feat.graph_featurizer import GraphFeaturizer, GraphConvConstants\n",
    "# from openpom.utils.loss import CustomMultiLabelLoss\n",
    "warnings.filterwarnings('ignore')\n",
    "\n",
    "# from openpom.feat.graph_featurizer import GraphFeaturizer, GraphConvConstants\n",
    "\n",
    "import deepchem as dc\n",
    "import rdkit\n",
    "from utils.gs_lf import *\n",
    "with open('../custom_utils/hparams.yaml', 'r') as f:\n",
    "    config = Namespace(**yaml.safe_load(f))\n",
    "\n",
    "print(torch.cuda.is_available())\n",
    "from fast_transformers.masking import LengthMask as LM\n",
    "# from train_pubchem_light import LightningModule\n",
    "# from openpom.utils.optimizer import get_optimizer\n",
    "from torch import nn\n",
    "import torch.nn.functional as F\n",
    "torch.cuda.is_available()\n",
    "torch.cuda.current_device()\n",
    "from utils.gs_lf import *\n",
    "import seaborn as sns\n",
    "import pyrfume\n",
    "from utils.util_alignment import *\n",
    "from utils.prepare_datasets import *\n",
    "from utils.custom_models import *\n",
    "from scipy.stats import pearsonr  \n",
    "from sklearn.metrics import r2_score\n",
    "import itertools\n",
    "import math\n",
    "from utils.util_alignment import *\n",
    "from utils.custom_models import *\n",
    "import seaborn as sns\n",
    "import matplotlib.pyplot as plt\n",
    "from matplotlib.patches import Patch\n",
    "from scipy.stats import gaussian_kde\n",
    "import numpy as np\n",
    "import os\n",
    "from IPython.display import Image\n",
    "# from openpom.models.mpnn_pom import MPNNPOMModel\n",
    "# plt.rcParams[\"font.family\"] = \"Arial\"\n",
    "plt.rcParams[\"font.size\"] = 35\n",
    "plt.rcParams[\"figure.figsize\"] = (10,10)\n",
    "# plt.rc('font',**{'family':'serif','serif':['Times']})\n",
    "from ast import literal_eval\n",
    "from utils.ridge_tools import *\n",
    "import ast\n",
    "from scipy import stats\n",
    "from sklearn.metrics import roc_auc_score\n",
    "from sklearn.metrics import confusion_matrix\n",
    "import seaborn as sns\n",
    "import random\n",
    "import warnings\n",
    "warnings.filterwarnings('ignore')\n",
    "from sklearn.metrics import multilabel_confusion_matrix,average_precision_score,precision_score,f1_score,recall_score,ConfusionMatrixDisplay\n",
    "import numpy as np\n",
    "import matplotlib.pyplot as plt\n",
    "from sklearn.metrics import roc_curve, auc\n",
    "from sklearn.model_selection import StratifiedKFold\n",
    "from sklearn.datasets import make_classification\n",
    "from sklearn.preprocessing import label_binarize\n",
    "from sklearn.linear_model import LogisticRegression\n",
    "from scipy import stats\n",
    "from utils.prepare_datasets import *\n",
    "from utils.helper_methods import *\n",
    "from constants import *\n"
   ],
   "execution_count": 2,
   "outputs": []
  },
  {
   "metadata": {
    "ExecuteTime": {
     "end_time": "2024-06-26T09:51:43.058592Z",
     "start_time": "2024-06-26T09:51:43.054510Z"
    }
   },
   "cell_type": "code",
   "source": [
    "# base_path  = '../../../../../../T5 EVO/alignment_olfaction_datasets/data/'\n",
    "base_path = '/local_storage/datasets/farzaneh/alignment_olfaction_datasets/'"
   ],
   "execution_count": 3,
   "outputs": []
  },
  {
   "cell_type": "code",
   "metadata": {
    "ExecuteTime": {
     "end_time": "2024-06-26T09:51:43.066243Z",
     "start_time": "2024-06-26T09:51:43.061513Z"
    }
   },
   "source": [
    "seed = 2024\n",
    "torch.manual_seed(seed)\n",
    "torch.cuda.manual_seed(seed)\n",
    "np.random.seed(seed)\n",
    "random.seed(seed)\n",
    "torch.cuda.manual_seed_all(seed)"
   ],
   "execution_count": 4,
   "outputs": []
  },
  {
   "cell_type": "markdown",
   "metadata": {},
   "source": [
    "# helper methods"
   ]
  },
  {
   "cell_type": "code",
   "metadata": {
    "ExecuteTime": {
     "end_time": "2024-06-26T09:51:43.086009Z",
     "start_time": "2024-06-26T09:51:43.067996Z"
    }
   },
   "source": [
    "def mAP(targs, preds, pos_thr=0.5):\n",
    "    \"\"\"Returns the model's average precision for each class\n",
    "    Return:\n",
    "        ap (FloatTensor): 1xK tensor, with avg precision for each class k\n",
    "    \"\"\"\n",
    "    def average_precision(output, target):\n",
    "        epsilon = 1e-8\n",
    "\n",
    "        # sort examples\n",
    "        indices = output.argsort()[::-1]\n",
    "        # Computes prec@i\n",
    "        total_count_ = np.cumsum(np.ones((len(output), 1)))\n",
    "\n",
    "        target_ = target[indices]\n",
    "        ind = target_ == 1\n",
    "        pos_count_ = np.cumsum(ind)\n",
    "        total = pos_count_[-1]\n",
    "        pos_count_[np.logical_not(ind)] = 0\n",
    "        pp = pos_count_ / total_count_\n",
    "        precision_at_i_ = np.sum(pp)\n",
    "        precision_at_i = precision_at_i_ / (total + epsilon)\n",
    "\n",
    "        return precision_at_i\n",
    "\n",
    "    if np.size(preds) == 0:\n",
    "        return 0\n",
    "    ap = np.zeros((preds.shape[1]))\n",
    "    # compute average precision for each class\n",
    "    for k in range(preds.shape[1]):\n",
    "        scores = preds[:, k]\n",
    "        targets = targs[:, k]\n",
    "        ap[k] = average_precision(scores, targets)\n",
    "    tp, fp, fn, tn = [], [], [], []\n",
    "    conf_matrices = []\n",
    "\n",
    "    for k in range(preds.shape[0]):\n",
    "        scores = preds[k,:]\n",
    "        targets = targs[k,:]\n",
    "        pred = (scores > pos_thr).astype(np.int32)\n",
    "        tp.append(((pred + targets) == 2).sum())\n",
    "        fp.append(((pred - targets) == 1).sum())\n",
    "        fn.append(((pred - targets) == -1).sum())\n",
    "        tn.append(((pred + targets) == 0).sum())\n",
    "        conf_matrices.append(confusion_matrix(targets, pred))\n",
    "\n",
    "    p_c = [tp[i] / (tp[i] + fp[i]) if tp[i] > 0 else 0.0 for i in range(len(tp))]\n",
    "    r_c = [tp[i] / (tp[i] + fn[i]) if tp[i] > 0 else 0.0\n",
    "                for i in range(len(tp))]\n",
    "    f_c = [2 * p_c[i] * r_c[i] / (p_c[i] + r_c[i]) if tp[i] > 0 else 0.0\n",
    "                for i in range(len(tp))]\n",
    "\n",
    "    mean_p_c = sum(p_c) / len(p_c)\n",
    "    mean_r_c = sum(r_c) / len(r_c)\n",
    "    mean_f_c = sum(f_c) / len(f_c)\n",
    "\n",
    "    p_o = sum(tp) / (np.array(tp) + np.array(fp)).sum()\n",
    "    r_o = sum(tp) / (np.array(tp) + np.array(fn)).sum()\n",
    "    f_o = 2 * p_o * r_o / (p_o + r_o)\n",
    "    # roc_auc=roc_auc_score(targs, preds)\n",
    "    roc_auc_score_test = roc_auc_score(targs,\n",
    "    preds,\n",
    "    multi_class=\"ovr\",\n",
    "    average=\"micro\")\n",
    "    # cm =multilabel_confusion_matrix(targets, pred)\n",
    "\n",
    "    # for i in range(targets.shape[1]):\n",
    "        \n",
    "\n",
    "    return ap.mean(), mean_p_c, mean_r_c, mean_f_c, p_o, r_o, f_o,conf_matrices, roc_auc_score_test\n"
   ],
   "execution_count": 5,
   "outputs": []
  },
  {
   "cell_type": "code",
   "metadata": {
    "ExecuteTime": {
     "end_time": "2024-06-26T09:51:43.093896Z",
     "start_time": "2024-06-26T09:51:43.087863Z"
    }
   },
   "source": [
    "def select_features(input_file):\n",
    "    ds_alva = pd.read_csv(input_file)\n",
    "\n",
    "    nonStereoSMILE = list(map(lambda x: \"nonStereoSMILES___\" + x, chemical_features_r))\n",
    "    # IsomericSMILES = list(map(lambda x: \"IsomericSMILES___\" + x, chemical_features_r))\n",
    "    selected_features = nonStereoSMILE\n",
    "    features= ['main_idx','nonStereoSMILES']+selected_features\n",
    "    # print(\"cc1\", ds_alva.columns.values.tolist())\n",
    "    ds_alva= ds_alva.rename(columns={\"Unnamed: 0\":\"main_idx\"})\n",
    "    # print(\"cc2\", ds_alva.columns.values.tolist())\n",
    "    ds_alva_selected = ds_alva[features]\n",
    "    ds_alva_selected = ds_alva_selected.fillna(0)\n",
    "    ds_alva_selected['embeddings'] = ds_alva_selected[selected_features].values.tolist()\n",
    "    return ds_alva_selected"
   ],
   "execution_count": 6,
   "outputs": []
  },
  {
   "cell_type": "markdown",
   "metadata": {
    "tags": []
   },
   "source": [
    "## Loading MolFormer Model"
   ]
  },
  {
   "cell_type": "markdown",
   "metadata": {
    "tags": []
   },
   "source": [
    "# Loading Human Embeddings"
   ]
  },
  {
   "cell_type": "markdown",
   "metadata": {},
   "source": [
    "## Extracting embedding from MoLFormer for GS-LF"
   ]
  },
  {
   "cell_type": "code",
   "metadata": {
    "ExecuteTime": {
     "end_time": "2024-06-26T09:51:43.105858Z",
     "start_time": "2024-06-26T09:51:43.095802Z"
    }
   },
   "source": [
    "def train_and_eval(gs_lf_embeddings_train,gs_lf_embeddings_valid,gs_lf_embeddings_test,gs_lf_y_train,gs_lf_y_valid,gs_lf_y_test,plot=True):\n",
    "    gs_lf_embeddings_train_valid = np.vstack((gs_lf_embeddings_train,gs_lf_embeddings_valid))\n",
    "    gs_lf_y_train_valid = np.vstack((gs_lf_y_train,gs_lf_y_valid))\n",
    "    linreg,X_test = pipeline_regression(gs_lf_embeddings_train_valid,gs_lf_y_train_valid,gs_lf_embeddings_test,custom_logistic_regression,seed,n_components=20)\n",
    "    predicted_probs = linreg.predict_proba(X_test)\n",
    "    predicted_labels = linreg.predict(X_test)\n",
    "\n",
    "    ap_mean, mean_p_c, mean_r_c, mean_f_c, p_o, r_o, f_o,conf_matrices,roc_auc = mAP(gs_lf_y_test, predicted_probs, pos_thr=0.5)\n",
    "        \n",
    "    \n",
    "    if plot:\n",
    "        all_fpr = []\n",
    "        all_tpr = []\n",
    "        all_roc_auc = []\n",
    "        for j in range(gs_lf_y_train_valid.shape[1]):\n",
    "            fpr, tpr, _ = roc_curve(gs_lf_y_test[:, j], predicted_probs[:, j])\n",
    "            all_fpr.append(fpr)\n",
    "            all_tpr.append(tpr)\n",
    "            all_roc_auc.append(auc(fpr, tpr))\n",
    "        \n",
    "        # Compute micro-average ROC curve and ROC area\n",
    "        all_fpr = np.concatenate(all_fpr)\n",
    "        all_tpr = np.concatenate(all_tpr)\n",
    "        mean_fpr = np.linspace(0, 1, 5000)\n",
    "        mean_tpr = np.interp(mean_fpr, all_fpr, all_tpr)\n",
    "        mean_tpr[0] = 0.0\n",
    "        mean_tpr[-1] = 1.0\n",
    "        return ap_mean, mean_p_c, mean_r_c, mean_f_c, p_o, r_o, f_o,conf_matrices, roc_auc, mean_fpr, mean_tpr\n",
    "    \n",
    "\n",
    "    return ap_mean, mean_p_c, mean_r_c, mean_f_c, p_o, r_o, f_o,conf_matrices, roc_auc"
   ],
   "execution_count": 7,
   "outputs": []
  },
  {
   "cell_type": "code",
   "metadata": {
    "ExecuteTime": {
     "end_time": "2024-06-26T09:51:43.115997Z",
     "start_time": "2024-06-26T09:51:43.107564Z"
    }
   },
   "source": [
    "def only_eval(gs_lf_y_test, predicted_probs,plot=True ):\n",
    "    # Compute ROC curve and ROC area for each class\n",
    "    ap_mean, mean_p_c, mean_r_c, mean_f_c, p_o, r_o, f_o,conf_matrices,roc_auc  = mAP(gs_lf_y_test, predicted_probs, pos_thr=0.5)\n",
    "    \n",
    "    if plot:\n",
    "        all_fpr = []\n",
    "        all_tpr = []\n",
    "        all_roc_auc = []\n",
    "        for j in range(gs_lf_y_test.shape[1]):\n",
    "            fpr, tpr, _ = roc_curve(gs_lf_y_test[:, j], predicted_probs[:, j])\n",
    "            all_fpr.append(fpr)\n",
    "            all_tpr.append(tpr)\n",
    "            all_roc_auc.append(auc(fpr, tpr))\n",
    "        \n",
    "        # Compute micro-average ROC curve and ROC area\n",
    "        all_fpr = np.concatenate(all_fpr)\n",
    "        all_tpr = np.concatenate(all_tpr)\n",
    "        mean_fpr = np.linspace(0, 1, 5000)\n",
    "        mean_tpr = np.interp(mean_fpr, all_fpr, all_tpr)\n",
    "        mean_tpr[0] = 0.0\n",
    "        mean_tpr[-1] = 1.0\n",
    "    \n",
    "        return ap_mean, mean_p_c, mean_r_c, mean_f_c, p_o, r_o, f_o,conf_matrices, roc_auc, mean_fpr, mean_tpr\n",
    "    return ap_mean, mean_p_c, mean_r_c, mean_f_c, p_o, r_o, f_o,conf_matrices, roc_auc"
   ],
   "execution_count": 8,
   "outputs": []
  },
  {
   "cell_type": "code",
   "metadata": {
    "ExecuteTime": {
     "end_time": "2024-06-26T09:51:43.127813Z",
     "start_time": "2024-06-26T09:51:43.119403Z"
    }
   },
   "source": [
    "def plot_mean(tprs,mean_fpr,aucs):\n",
    "    # Calculate the mean and standard deviation of the TPRs\n",
    "    mean_tpr = np.mean(tprs, axis=0)\n",
    "    mean_tpr[-1] = 1.0\n",
    "    mean_auc = auc(mean_fpr, mean_tpr)\n",
    "    std_auc = np.std(aucs)\n",
    "    \n",
    "    # Plot the mean ROC curve\n",
    "    plt.plot(mean_fpr, mean_tpr, color='b',\n",
    "             label=f'Mean ROC (AUC = {mean_auc:.2f} ± {std_auc:.2f})',\n",
    "             lw=2, alpha=.8)\n",
    "    \n",
    "    # Calculate the standard deviation of the TPRs\n",
    "    std_tpr = np.std(tprs, axis=0)\n",
    "    tprs_upper = np.minimum(mean_tpr + std_tpr, 1)\n",
    "    tprs_lower = np.maximum(mean_tpr - std_tpr, 0)\n",
    "\n",
    "    # Fill the area between the TPRs\n",
    "    plt.fill_between(mean_fpr, tprs_lower, tprs_upper, color='grey', alpha=.2)\n",
    "    \n",
    "    # Plot chance level\n",
    "    plt.plot([0, 1], [0, 1], linestyle='--', lw=2, color='r', label='Chance', alpha=.8)\n",
    "    \n",
    "    plt.xlim([-0.05, 1.05])\n",
    "    plt.ylim([-0.05, 1.05])\n",
    "    plt.xlabel('False Positive Rate')\n",
    "    plt.ylabel('True Positive Rate')\n",
    "    # plt.title('Micro-averaged ROC Curve with Mean and SE')\n",
    "    plt.legend(loc=\"lower right\")\n",
    "    plt.show()"
   ],
   "execution_count": 9,
   "outputs": []
  },
  {
   "cell_type": "code",
   "metadata": {
    "ExecuteTime": {
     "end_time": "2024-06-26T09:51:43.149092Z",
     "start_time": "2024-06-26T09:51:43.129908Z"
    }
   },
   "source": [
    "\n",
    "def plot_roc_auc_mean(base_path,index,data,color,x_att,y_att,train=True,ds='alva'):\n",
    "    mean_fpr = np.linspace(0, 1, 5000)\n",
    "    tprs = []\n",
    "    aucs = []\n",
    "    fig, ax = plt.subplots(figsize=(10, 10)) \n",
    "    \n",
    "    \n",
    "    for i in range(1,3):    \n",
    "        input_file_indices = index+str(i)+'.csv'\n",
    "        indices_train,indices_valid,indices_test = extract_set_idxs(base_path, indices_path=input_file_indices)\n",
    "    \n",
    "        if train: \n",
    "            input_file_data = data+'_Apr17.csv'\n",
    "        else:\n",
    "            input_file_data = data+str(i)+'_Apr17.csv'\n",
    "            \n",
    "        gs_lf, gs_lf_np,gs_lf_y,gs_lf_embeddings_train,gs_lf_y_train,gs_lf_embeddings_valid,gs_lf_y_valid,gs_lf_embeddings_test,gs_lf_y_test = extract_set_from_indices(base_path,input_file_data ,x_att,y_att, indices_train, indices_valid, indices_test)\n",
    "\n",
    "        if train:\n",
    "            ap_mean, mean_p_c, mean_r_c, mean_f_c, p_o, r_o, f_o,conf_matrices, roc_auc, fpr, tpr = train_and_eval(gs_lf_embeddings_train,gs_lf_embeddings_valid,gs_lf_embeddings_test,gs_lf_y_train,gs_lf_y_valid,gs_lf_y_test)\n",
    "        else:\n",
    "            ap_mean, mean_p_c, mean_r_c, mean_f_c, p_o, r_o, f_o,conf_matrices, roc_auc, fpr, tpr = only_eval( gs_lf_y_test, gs_lf_embeddings_test)\n",
    "\n",
    "        \n",
    "        tprs.append(tpr)\n",
    "        aucs.append(roc_auc)\n",
    "        print(roc_auc)\n",
    "    \n",
    "        plt.plot(fpr, tpr, lw=1, alpha=0.3, label='')\n",
    "    \n",
    "    \n",
    "    # Calculate the mean and standard deviation of the TPRs\n",
    "    mean_tpr = np.mean(tprs, axis=0)\n",
    "    mean_tpr[-1] = 1.0\n",
    "    mean_auc = np.mean(aucs)\n",
    "    std_auc = np.std(aucs)\n",
    "    \n",
    "    # Plot the mean ROC curve\n",
    "    plt.plot(mean_fpr, mean_tpr, color=color,\n",
    "             label=f'Mean ROC (AUC = {mean_auc:.2f} ± {std_auc:.2f})',\n",
    "             lw=7, alpha=.8)\n",
    "    \n",
    "    # Calculate the standard deviation of the TPRs\n",
    "    std_tpr = np.std(tprs, axis=0)\n",
    "    tprs_upper = np.minimum(mean_tpr + std_tpr, 1)\n",
    "    tprs_lower = np.maximum(mean_tpr - std_tpr, 0)\n",
    "\n",
    "    # Fill the area between the TPRs\n",
    "    plt.fill_between(mean_fpr, tprs_lower, tprs_upper, color=color, alpha=.2)\n",
    "    \n",
    "    # Plot chance level\n",
    "    plt.plot([0, 1], [0, 1], linestyle='--', lw=2, color='r', label='Chance', alpha=.8)\n",
    "    \n",
    "    plt.xlim([-0.05, 1.05])\n",
    "    plt.ylim([-0.05, 1.05])\n",
    "    plt.xlabel('False Positive Rate')\n",
    "    plt.ylabel('True Positive Rate')\n",
    "    # plt.title('Micro-averaged ROC Curve with Mean and SE')\n",
    "    plt.legend(loc=\"lower right\")\n",
    "    ax.spines['top'].set_visible(False)\n",
    "    ax.spines['right'].set_visible(False)\n",
    "\n",
    "\n",
    "\n",
    "    handles, labels = ax.get_legend_handles_labels()\n",
    "    ax.get_legend().remove()\n",
    "    print(labels)\n",
    "    fig.subplots_adjust(bottom=0,left=0.1,right=0.95,top=0.7)\n",
    "    # labels = ['MoLFormer', 'POM']\n",
    "    ax.legend(handles, labels, ncol=2, columnspacing=1, prop={'size': 30}, handlelength=1.5, loc=\"lower center\",\n",
    "               borderpad=0.3,\n",
    "               \n",
    "               bbox_to_anchor=(0.5, -0.3), \n",
    "               \n",
    "               frameon=True, labelspacing=0.4,handletextpad=0.2,)\n",
    "    # plt.legend(title='Smoker', loc='upper left',)\n",
    "\n",
    "    plt.tight_layout()\n",
    "\n",
    "    fig.savefig(ds+\".pdf\", bbox_inches='tight')\n",
    "    \n",
    "    plt.show()"
   ],
   "execution_count": 10,
   "outputs": []
  },
  {
   "cell_type": "markdown",
   "metadata": {},
   "source": [
    "# Training Classifiers using DeepChem "
   ]
  },
  {
   "cell_type": "markdown",
   "metadata": {},
   "source": [
    "### Linear and Plot"
   ]
  },
  {
   "cell_type": "code",
   "metadata": {
    "ExecuteTime": {
     "end_time": "2024-06-26T09:51:50.052213Z",
     "start_time": "2024-06-26T09:51:43.150922Z"
    }
   },
   "source": [
    "input_file_indices = 'curated_datasets/embeddings/pom/gslf-splits-idx-'\n",
    "input_file_data = 'curated_datasets/embeddings/pom/gslf_pom_proba_'\n",
    "      \n",
    "plot_roc_auc_mean(base_path,input_file_indices,input_file_data,x_att='embeddings',y_att='y',color='#ecc947',train=False,ds=\"pom_rocauc\")"
   ],
   "execution_count": 11,
   "outputs": []
  },
  {
   "cell_type": "code",
   "metadata": {
    "ExecuteTime": {
     "end_time": "2024-06-26T09:52:26.822771Z",
     "start_time": "2024-06-26T09:51:50.054405Z"
    }
   },
   "source": [
    "input_file_indices = 'curated_datasets/embeddings/pom/gslf-splits-idx-'\n",
    "input_file_data = 'curated_datasets/embeddings/molformer/gslf_molformer_embeddings_13'      \n",
    "plot_roc_auc_mean(base_path,input_file_indices,input_file_data,color='#4d79a4',x_att='embeddings',y_att='y',train=True,ds=\"molformer_rocauc\")"
   ],
   "execution_count": 12,
   "outputs": []
  },
  {
   "cell_type": "code",
   "metadata": {
    "scrolled": true,
    "ExecuteTime": {
     "end_time": "2024-06-26T09:52:56.958433Z",
     "start_time": "2024-06-26T09:52:26.823931Z"
    }
   },
   "source": [
    "# compute_paramters_plot_alva(13,color='#b07aa0')\n",
    "\n",
    "input_file_indices = 'curated_datasets/embeddings/pom/gslf-splits-idx-'\n",
    "input_file_data = 'curated_datasets/alva/gslf_molecules_alva_y'      \n",
    "plot_roc_auc_mean(base_path,input_file_indices,input_file_data,color='#b07aa0',x_att='embeddings',y_att='y',train=True,ds=\"DAM_rocauc\")"
   ],
   "execution_count": 13,
   "outputs": []
  },
  {
   "metadata": {
    "ExecuteTime": {
     "end_time": "2024-06-26T09:52:57.806912Z",
     "start_time": "2024-06-26T09:52:56.959519Z"
    }
   },
   "cell_type": "code",
   "source": [
    "input_file_data = 'curated_datasets/embeddings/molformer/gslf_molformer_embeddings_13'     \n",
    "df_gslf = pd.read_csv(base_path+input_file_data+'_Apr17.csv').columns.values.tolist()"
   ],
   "execution_count": 14,
   "outputs": []
  },
  {
   "metadata": {},
   "cell_type": "code",
   "source": "# plot a 137*137 matrix that are real and predicted labels. The ro\n",
   "execution_count": null,
   "outputs": []
  }
 ],
 "metadata": {
  "kernelspec": {
   "display_name": "Python 3 (ipykernel)",
   "language": "python",
   "name": "python3"
  },
  "language_info": {
   "codemirror_mode": {
    "name": "ipython",
    "version": 3
   },
   "file_extension": ".py",
   "mimetype": "text/x-python",
   "name": "python",
   "nbconvert_exporter": "python",
   "pygments_lexer": "ipython3",
   "version": "3.8.18"
  },
  "toc-autonumbering": true,
  "toc-showmarkdowntxt": true
 },
 "nbformat": 4,
 "nbformat_minor": 4
}
