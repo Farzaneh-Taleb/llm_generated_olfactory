{
 "cells": [
  {
   "metadata": {
    "ExecuteTime": {
     "end_time": "2024-06-11T14:31:40.394106Z",
     "start_time": "2024-06-11T14:31:40.385008Z"
    }
   },
   "cell_type": "code",
   "source": [
    "import os\n",
    "import sys\n",
    "parent_dir = \"/Midgard/home/farzantn/phd/Olfaction/MoLFormer_N2024\"\n",
    "sys.path.append(parent_dir)\n",
    "parent_dir=\"/Midgard/home/farzantn/mambaforge/envs/MolTran_CUDA11_cuda/lib/python3.8\"\n",
    "sys.path.append(parent_dir)"
   ],
   "id": "c5da6586d1206d40",
   "outputs": [],
   "execution_count": 1
  },
  {
   "cell_type": "code",
   "id": "a8524742-4851-4c08-9e2b-542465d42aa2",
   "metadata": {
    "ExecuteTime": {
     "end_time": "2024-06-11T14:31:55.192974Z",
     "start_time": "2024-06-11T14:31:44.475751Z"
    }
   },
   "source": [
    "from mat4py import loadmat\n",
    "import scipy.io as sio\n",
    "import numpy as np\n",
    "parent_dir=\"/Midgard/home/farzantn/mambaforge/envs/MolTran_CUDA11_cuda/lib/python3.8\"\n",
    "sys.path.append(parent_dir)\n",
    "import numpy as np\n",
    "path='/local_storage/datasets/farzaneh/Olfaction/fmri_test/'\n",
    "from utils.ridge_tools import *\n",
    "import pandas as pd\n",
    "import ast\n",
    "base_directory = ''\n",
    "from sklearn.model_selection import cross_validate,train_test_split\n",
    "from sklearn.preprocessing import StandardScaler\n",
    "from sklearn.decomposition import PCA\n",
    "from sklearn.metrics import roc_auc_score, mean_squared_error\n",
    "import scipy"
   ],
   "outputs": [],
   "execution_count": 2
  },
  {
   "metadata": {
    "ExecuteTime": {
     "end_time": "2024-06-11T14:32:27.709196Z",
     "start_time": "2024-06-11T14:32:27.704837Z"
    }
   },
   "cell_type": "code",
   "source": "base_dir = '/local_storage/datasets/farzaneh/alignment_olfaction_datasets/'",
   "id": "415eb2db99fed7ba",
   "outputs": [],
   "execution_count": 4
  },
  {
   "cell_type": "code",
   "id": "e82f3bbb-ff78-4729-8101-d8f10de7e211",
   "metadata": {
    "ExecuteTime": {
     "end_time": "2024-06-11T14:32:39.186454Z",
     "start_time": "2024-06-11T14:32:37.797464Z"
    }
   },
   "source": [
    "parent_input_sagar_original = base_dir+'NEMO_scripts-master/Data/supporting_files/NEMO_s01/Fullmet_FIR.mat'\n",
    "data_original = sio.loadmat(parent_input_sagar_original)"
   ],
   "outputs": [],
   "execution_count": 6
  },
  {
   "cell_type": "code",
   "id": "750fd2cc-c4d1-4573-8d83-41820fdbcda8",
   "metadata": {
    "ExecuteTime": {
     "end_time": "2024-06-11T14:33:12.895624Z",
     "start_time": "2024-06-11T14:33:12.727380Z"
    }
   },
   "source": [
    "parent_input_sagar_original = base_dir+'NEMO_scripts-master/Data/odor_responses_S1-3_regionized/odor_responses_S1.mat'\n",
    "data1 = sio.loadmat(parent_input_sagar_original)\n",
    "parent_input_sagar_original = base_dir+'NEMO_scripts-master/Data/odor_responses_S1-3_regionized/odor_responses_S2.mat'\n",
    "data2 = sio.loadmat(parent_input_sagar_original)\n",
    "parent_input_sagar_original = base_dir+'NEMO_scripts-master/Data/odor_responses_S1-3_regionized/odor_responses_S3.mat'\n",
    "data3 = sio.loadmat(parent_input_sagar_original)"
   ],
   "outputs": [],
   "execution_count": 7
  },
  {
   "cell_type": "code",
   "execution_count": 4,
   "id": "cbd438e4-1b2f-468a-91d9-5206f1a9fb80",
   "metadata": {},
   "source": [
    "# parent_input_sagar_original = 'NEMO_s01/task_struct.mat'\n",
    "# sio.loadmat(parent_input_sagar_original)[].keys()"
   ],
   "outputs": []
  },
  {
   "cell_type": "code",
   "id": "9133fbf4-9c9e-419e-a4b4-025f71b6ae06",
   "metadata": {
    "ExecuteTime": {
     "end_time": "2024-06-11T14:33:14.758043Z",
     "start_time": "2024-06-11T14:33:14.751894Z"
    }
   },
   "source": [
    "rois_all=  []\n",
    "for data_s in [data1,data2,data3]:\n",
    "    rois = {}\n",
    "    rois['PirF']= data_s['odor_vals'][0][0]\n",
    "    rois['PirT']= data_s['odor_vals'][0][1]\n",
    "    rois['AMY']= data_s['odor_vals'][0][2]\n",
    "    rois['OFC']= data_s['odor_vals'][0][3]\n",
    "    rois_all.append(rois)\n"
   ],
   "outputs": [],
   "execution_count": 8
  },
  {
   "cell_type": "code",
   "id": "92a43f47-225e-4959-9b27-88c0f3c37859",
   "metadata": {
    "ExecuteTime": {
     "end_time": "2024-06-11T14:33:15.764887Z",
     "start_time": "2024-06-11T14:33:15.761816Z"
    }
   },
   "source": [
    "for rois in rois_all:\n",
    "    for key in rois.keys():\n",
    "        roi=rois[key]\n",
    "        roi = np.moveaxis(roi,-1,0)\n",
    "        # roi = np.mean(roi,-1)\n",
    "        rois[key]=roi"
   ],
   "outputs": [],
   "execution_count": 9
  },
  {
   "cell_type": "code",
   "execution_count": 7,
   "id": "a60c4551-7185-4991-89e3-0f1a48faa7af",
   "metadata": {},
   "source": [
    "# rois"
   ],
   "outputs": []
  },
  {
   "cell_type": "code",
   "execution_count": 8,
   "id": "fa017d17-c971-4fc6-a135-bfbdd32bc2b5",
   "metadata": {},
   "source": [
    "def get_chemical_features_fixed_length(layer, seq_len, feat_type, feat_dir,  train_ind,test_ind):\n",
    "    \n",
    "    loaded = np.load( os.path.join(feat_dir, feat_type + '_length_'+str(seq_len)+ '_layer_' + str(layer) + '.npy') )\n",
    "    # For now, all models should be processed the same way\n",
    "    # In future, if there are newer models that are processed differently, can add additional if-branch \n",
    "    if True:\n",
    "        train = loaded[train_indicator]         # (~3877, 768)\n",
    "        test = loaded[~train_indicator]         # (~1279, 768)\n",
    "    else:\n",
    "        print('Unrecognized NLP feature type {}.'.format(feat_type))\n",
    "    \n",
    "    pca = PCA(n_components=10, svd_solver='full')\n",
    "    pca.fit(train)\n",
    "    train_pca = pca.transform(train)                                    # (~3877, 10)\n",
    "    test_pca = pca.transform(test)                                      # (~1279, 10)\n",
    "\n",
    "    return train, test, train_pca, test_pca "
   ],
   "outputs": []
  },
  {
   "cell_type": "code",
   "execution_count": 9,
   "id": "ec2f8c14-d349-4890-a3a2-c07ed35a3592",
   "metadata": {},
   "source": [
    "def prepare_fmri_features(train_ind,test_ind):\n",
    "        \n",
    "    return tmp[train_ind], tmp[test_ind]"
   ],
   "outputs": []
  },
  {
   "cell_type": "code",
   "execution_count": 10,
   "id": "c0393c45-4652-409f-bb53-5f9bf043cc33",
   "metadata": {},
   "source": [
    "def CV_ind(n, n_folds):\n",
    "    ind = np.zeros((n))                         # (1211,)\n",
    "    n_items = int(np.floor(n/n_folds))          # 302\n",
    "    for i in range(0,n_folds -1):               # Folds 0,1,2\n",
    "        ind[i*n_items:(i+1)*n_items] = i\n",
    "    ind[(n_folds-1)*n_items:] = (n_folds-1)     # Fold 3\n",
    "    return ind    "
   ],
   "outputs": []
  },
  {
   "cell_type": "code",
   "execution_count": 11,
   "id": "279e60b6-9930-4160-95b3-5f4f3d72f9d9",
   "metadata": {},
   "source": [
    "def run_class_time_CV_fmri_crossval_ridge(data,\n",
    "                                          regress_feat_names_list = [],method = 'kernel_ridge', \n",
    "                                          lambdas = np.array([0.1,1,10,100,1000]),\n",
    "                                          detrend = False, n_folds = 4, skip=5):\n",
    "    \n",
    "    # nlp_feat_type = predict_feat_dict['nlp_feat_type']\n",
    "    # feat_dir = predict_feat_dict['nlp_feat_dir']\n",
    "    # layer = predict_feat_dict['layer']\n",
    "    # seq_len = predict_feat_dict['seq_len']\n",
    "        \n",
    "    \n",
    "    n_odors = data.shape[0]     # (1211)\n",
    "    n_voxels = data.shape[1]    # (~27905)\n",
    "\n",
    "    ind = CV_ind(n_odors, n_folds=n_folds)      # (1211,) => [0., 0., 0., ..., 3., 3., 3.]\n",
    "\n",
    "\n",
    "    corrs = np.zeros((n_folds, n_voxels))\n",
    "    acc = np.zeros((n_folds, n_voxels))\n",
    "    acc_std = np.zeros((n_folds, n_voxels))\n",
    "\n",
    "    all_test_data = []\n",
    "    all_preds = []\n",
    "    \n",
    "    \n",
    "    for ind_num in range(n_folds):\n",
    "        train_ind = ind!=ind_num                # (1211,) => [False, False, False, ...,  True,  True,  True]\n",
    "        test_ind = ind==ind_num                 # (1211,) => [ True,  True,  True, ..., False, False, False]\n",
    "        \n",
    "        \n",
    "        _,_,tmp_train_features,tmp_test_features = get_chemical_features_fixed_length(layer, seq_len, nlp_feat_type, feat_dir, train_ind,test_ind)\n",
    "        fmri_train_features,fmri_test_features = prepare_fmri_features(train_ind,test_ind)\n",
    "        \n",
    "        \n",
    "        start_time = tm.time()\n",
    "        weights, chosen_lambdas = cross_val_ridge(fmri_train_features,chemical_train_data, n_splits = 10, lambdas = np.array([10**i for i in range(-6,10)]), method = 'plain',do_plot = False)\n",
    "\n",
    "        preds = np.dot(test_features, weights)\n",
    "        corrs[ind_num,:] = corr(preds,test_data)\n",
    "        all_preds.append(preds)\n",
    "            \n",
    "        print('fold {} completed, took {} seconds'.format(ind_num, tm.time()-start_time))\n",
    "        del weights\n",
    "\n",
    "    return corrs, acc, acc_std, np.vstack(all_preds), np.vstack(all_test_data)"
   ],
   "outputs": []
  },
  {
   "cell_type": "code",
   "execution_count": 12,
   "id": "d2f04b77-e166-4267-af87-fd7086c72468",
   "metadata": {},
   "source": [
    "def compute_correlation_keller(times , n_components,per_descritor=False):\n",
    "    \n",
    "    input_file_keller_pom = base_path+'alignment_olfaction_datasets/data/curated_datasets/embeddings/pom/keller_pom_embeddings_Apr17.csv'\n",
    "    df_keller_mse_pom, df_keller_cor_pom = pipeline('pom',input_file_keller_pom,times=times,n_components=n_components)\n",
    "    \n",
    "    input_file_keller_alva = base_path+'alignment_olfaction_datasets/data/curated_datasets/alva/keller_molecules_alva_17Apr.csv'\n",
    "    df_keller_mse_alva, df_keller_cor_alva = pipeline('alva',input_file_keller_pom,input_file_keller_alva,times=times,n_components=n_components)\n",
    "    \n",
    "    \n",
    "\n",
    "    \n",
    "    corrs_molformer=[]\n",
    "\n",
    "    mses_molformer=[]\n",
    "    \n",
    "    for i in [0,1,2,3,4,5,6,7,8,9,10,11,13]:\n",
    "    # for i in [0,13]:\n",
    "        input_file_keller_molformer = base_path+'alignment_olfaction_datasets/data/curated_datasets/embeddings/molformer/keller_molformer_embeddings_'+str(i)+'_Apr17.csv'\n",
    "        df_keller_mse_molformer, df_keller_cor_molformer = pipeline('molformer',input_file_keller_molformer,times=times,n_components=n_components,per_descritor=per_descritor)\n",
    "        \n",
    "        \n",
    "        \n",
    "        corrs_molformer.append(df_keller_cor_molformer)\n",
    "        mses_molformer.append(df_keller_mse_molformer)\n",
    "\n",
    "    return corrs_molformer,mses_molformer,df_keller_cor_pom,df_keller_mse_pom,df_keller_cor_alva,df_keller_mse_alva"
   ],
   "outputs": []
  },
  {
   "cell_type": "code",
   "execution_count": 13,
   "id": "9e3949aa-d17e-4816-ba96-28d92397140e",
   "metadata": {},
   "source": [
    "def prepare_dataset(ds):\n",
    "    # ds['y'] = ds['y'].apply(ast.literal_eval)\n",
    "    ds['embeddings'] = ds['embeddings'].apply(ast.literal_eval)\n",
    "    \n",
    "    return ds"
   ],
   "outputs": []
  },
  {
   "cell_type": "code",
   "execution_count": 14,
   "id": "1f5c4448-dd41-48d8-ab5b-d7ecaf373f36",
   "metadata": {},
   "source": [
    "def custom_linear_regression(X,y):\n",
    "    # print(y.shape)\n",
    "    clf = RidgeCV(alphas=[1e-3, 1e-2, 1e-1, 1])\n",
    "    # if len(y.shape)>1:\n",
    "    #     linreg = MultiTaskLassoCV(max_iter=1000,n_alphas=200,random_state=seed,n_jobs=-1)\n",
    "    # else:\n",
    "    #     linreg = LassoCV(max_iter=1000,n_alphas=200,random_state=seed,n_jobs=-1)\n",
    "    \n",
    "    estimator= clf.fit(X,y)\n",
    "    return estimator"
   ],
   "outputs": []
  },
  {
   "cell_type": "code",
   "execution_count": 15,
   "id": "38cb0358-c56b-4694-9e3f-d2d65cc6f46e",
   "metadata": {},
   "source": [
    "def average_sagar_subject(df):\n",
    "    df_groupbyCID=df.groupby(['CID','subject'])[['0.1',\n",
    "     '1.1',\n",
    "     '2.1',\n",
    "     '3.1',\n",
    "     '4.1',\n",
    "     '5.1',\n",
    "     '6.1',\n",
    "     '7.1',\n",
    "     '8.1',\n",
    "     '9.1',\n",
    "     '10.1',\n",
    "     '11.1',\n",
    "     '12.1',\n",
    "     '13.1',\n",
    "     '14.1'\n",
    "]].mean().reset_index()\n",
    "\n",
    "    df_groupbyCID['y'] = df_groupbyCID.loc[:, '0.1':'14.1'].values.tolist()\n",
    "    df_embeddings=df.drop_duplicates(subset=['CID'])\n",
    "    df_embeddings=df_embeddings[['CID','embeddings']]\n",
    "    df_groupbyCID = pd.merge(df_groupbyCID, df_embeddings, on='CID', how='left')\n",
    "    return df_groupbyCID"
   ],
   "outputs": []
  },
  {
   "cell_type": "code",
   "execution_count": 16,
   "id": "1b717786-ba0c-487d-b9f3-c0a206f97329",
   "metadata": {},
   "source": [
    "def average_sagar(df):\n",
    "    df_groupbyCID=df.groupby('CID')[['0.1',\n",
    "     '1.1',\n",
    "     '2.1',\n",
    "     '3.1',\n",
    "     '4.1',\n",
    "     '5.1',\n",
    "     '6.1',\n",
    "     '7.1',\n",
    "     '8.1',\n",
    "     '9.1',\n",
    "     '10.1',\n",
    "     '11.1',\n",
    "     '12.1',\n",
    "     '13.1',\n",
    "     '14.1'\n",
    "     ]].mean().reset_index()\n",
    "\n",
    "    df_groupbyCID['y'] = df_groupbyCID.loc[:, '0.1':'14.1'].values.tolist()\n",
    "    df_embeddings=df.drop_duplicates(subset=['CID'])\n",
    "    df_embeddings=df_embeddings[['CID','embeddings']]\n",
    "    df_groupbyCID = pd.merge(df_groupbyCID, df_embeddings, on='CID', how='left')\n",
    "    return df_groupbyCID"
   ],
   "outputs": []
  },
  {
   "cell_type": "code",
   "execution_count": 17,
   "id": "0e8dae04-554d-4931-b50e-6fcdffbe878e",
   "metadata": {
    "scrolled": true
   },
   "source": [
    "# input_file_sagar_pom = '/local_storage/datasets/farzaneh/alignment_olfaction_datasets/curated_datasets/embeddings/pom/sagar_pom_embeddings_Apr17.csv'\n",
    "# pom_embeddings = pd.read_csv(input_file_sagar_pom)"
   ],
   "outputs": []
  },
  {
   "cell_type": "code",
   "execution_count": 18,
   "id": "d1c6d46c-dfd8-4884-a225-59f0586e5f37",
   "metadata": {},
   "source": [
    "parent_input_sagar = '/local_storage/datasets/farzaneh/alignment_olfaction_datasets/curated_datasets/mols_datasets/curated_sagar_subjects_nonaminus.csv'\n",
    "sagar_mols = pd.read_csv(parent_input_sagar)\n"
   ],
   "outputs": []
  },
  {
   "cell_type": "code",
   "execution_count": 19,
   "id": "8e3b1c05-bca6-4653-b9d8-916dbfe90c7f",
   "metadata": {},
   "source": [
    "parent_input_sagar = '/local_storage/datasets/farzaneh/alignment_olfaction_datasets/curated_datasets/mols_datasets/curated_sagar_subjects_nonaminus.csv'\n",
    "sagar_mols = pd.read_csv(parent_input_sagar)"
   ],
   "outputs": []
  },
  {
   "cell_type": "code",
   "execution_count": 20,
   "id": "fe7594d3-bcc6-4d17-9ca9-74e7f7e729a5",
   "metadata": {},
   "source": [
    "# sagar_mols1 = sagar_mols.loc[sagar_mols['subject']==1].sort_values('cid')\n",
    "# sagar_mols2 = sagar_mols.loc[sagar_mols['subject']==2].sort_values('cid')\n",
    "# sagar_mols3 = sagar_mols.loc[sagar_mols['subject']==3].sort_values('cid')\n",
    "\n",
    "sagar_mols.loc[sagar_mols['subject']==1].cid.values.tolist()\n",
    "sagar_mols2 = sagar_mols.loc[sagar_mols['subject']==2]\n",
    "sagar_mols3 = sagar_mols.loc[sagar_mols['subject']==3]"
   ],
   "outputs": []
  },
  {
   "cell_type": "code",
   "execution_count": 21,
   "id": "4ad858b3-ee9c-4b06-8218-32619ed24e62",
   "metadata": {},
   "source": [
    "# rois_all[0]['PirF'].shape\n",
    "# pd.DataFrame.from_dict(rois_all[0])\n",
    "# selected_subject=sagar_mols[(sagar_mols['subject']==1)][['cid','IsomericSMILES','nonStereoSMILES']]\n",
    "# selected_subject"
   ],
   "outputs": []
  },
  {
   "cell_type": "code",
   "execution_count": null,
   "id": "ccaaf617-cd48-4a77-b2d5-3ede114e072f",
   "metadata": {},
   "source": [],
   "outputs": []
  },
  {
   "cell_type": "code",
   "execution_count": 22,
   "id": "e154320a-2246-4faa-b61b-239dc353271e",
   "metadata": {},
   "source": [
    "def pipeline_regression(X,y,times,n_components=None):\n",
    "    mserrorrs_corssvalidated = []\n",
    "    correlations_corssvalidated = []\n",
    "    for i in range(times):\n",
    "       \n",
    "        # print(\"min\", X.min())\n",
    "        # print(\"max\", X.max())\n",
    "          \n",
    "        \n",
    "        X_train, X_test, y_train, y_test = train_test_split(X, y, test_size=0.2, random_state=seed+i)  \n",
    "        scaler = StandardScaler()\n",
    "        X_train = scaler.fit_transform(X_train)\n",
    "        X_test = scaler.transform(X_test)\n",
    "        if n_components is not None:\n",
    "            pca = PCA(n_components=n_components)\n",
    "            X_train=pca.fit_transform(X_train)\n",
    "            X_test=pca.transform(X_test)\n",
    "        linreg =custom_linear_regression(X_train,y_train)\n",
    "        mseerrors, correlations=metrics_per_descritor(X_test,y_test,linreg)\n",
    "        mserrorrs_corssvalidated.append(mseerrors)\n",
    "        correlations_corssvalidated.append(correlations)\n",
    "    return mserrorrs_corssvalidated, correlations_corssvalidated"
   ],
   "outputs": []
  },
  {
   "cell_type": "code",
   "execution_count": 23,
   "id": "93339a89-58d3-40e3-99b7-802bcfe771fe",
   "metadata": {},
   "source": [
    "def metrics_per_descritor(X,y,linreg):\n",
    "    predicted=linreg.predict(X)\n",
    "    mseerrors = []\n",
    "    correlations = []\n",
    "    if len(y.shape)>1:\n",
    "        for i in range(y.shape[1]):\n",
    "            mseerror=mean_squared_error(predicted[:,i],y[:,i])\n",
    "            correlation=scipy.stats.pearsonr(predicted[:,i], y[:,i])\n",
    "            mseerrors.append(mseerror)\n",
    "            correlations.append(correlation)\n",
    "            # print(predicted[:,i], y[:,i])\n",
    "        \n",
    "    else:\n",
    "        mseerror=mean_squared_error(predicted,y)\n",
    "        correlation=scipy.stats.pearsonr(predicted, y)\n",
    "        mseerrors.append(mseerror)\n",
    "        correlations.append(correlation)\n",
    "     # print(predicted[:,i], y[:,i])\n",
    "    \n",
    "    return mseerrors, correlations\n",
    "        # plot()\n",
    "        \n",
    "    \n",
    "    "
   ],
   "outputs": []
  },
  {
   "cell_type": "code",
   "execution_count": 24,
   "id": "981e9f82-3587-4745-8220-3619393d82c3",
   "metadata": {},
   "source": [
    "def compute_correlation_keller(subject,roi,times , n_components,per_descritor=False):\n",
    "    \n",
    "    # input_file_keller_pom = base_path+'alignment_olfaction_datasets/data/curated_datasets/embeddings/pom/keller_pom_embeddings_Apr17.csv'\n",
    "    # df_keller_mse_pom, df_keller_cor_pom = pipeline('pom',input_file_keller_pom,times=times,n_components=n_components)\n",
    "    \n",
    "    # input_file_keller_alva = base_path+'alignment_olfaction_datasets/data/curated_datasets/alva/keller_molecules_alva_17Apr.csv'\n",
    "    # df_keller_mse_alva, df_keller_cor_alva = pipeline('alva',input_file_keller_pom,input_file_keller_alva,times=times,n_components=n_components)\n",
    "    \n",
    "    # selected_subject=sagar_mols[(sagar_mols['subject']==subject)][['cid','IsomericSMILES','nonStereoSMILES']]\n",
    "            \n",
    "    fmri_data_y=rois_all[subject-1][roi]\n",
    "    # input_file_sagar_pom = '/local_storage/datasets/farzaneh/alignment_olfaction_datasets/curated_datasets/embeddings/pom/sagar_pom_embeddings_Apr17.csv'\n",
    "    \n",
    "\n",
    "#X: representations\n",
    "#y: fMRI\n",
    "    \n",
    "    corrs_molformer=[]\n",
    "\n",
    "    mses_molformer=[]\n",
    "    fmri_data_y_mean = fmri_data_y.mean(-1)\n",
    "    for i in [0,1,2,3,4,5,6,7,8,9,10,11,13]:\n",
    "    # for i in [0,1,2,3,4,13]:\n",
    "        df_keller_mse_molformers=[]\n",
    "        df_keller_cor_molformers=[]\n",
    "        for y_i in range(fmri_data_y_mean.shape[1]): \n",
    "        # for y_i in range(7): \n",
    "            input_file_keller_molformer = '/local_storage/datasets/farzaneh/alignment_olfaction_datasets/curated_datasets/embeddings/molformer/sagar_molformer_embeddings_'+str(i)+'_Apr17.csv'\n",
    "            df_embeddings = pd.read_csv(input_file_keller_molformer)\n",
    "            # df_embeddings_group = average_sagar_subject(df_embeddings)\n",
    "            df_embeddings = prepare_dataset(df_embeddings)\n",
    "            embeddings=df_embeddings[df_embeddings['subject']==subject]['embeddings']\n",
    "            embeddings  = np.asarray(embeddings.values.tolist())\n",
    "            \n",
    "            \n",
    "            df_keller_mse_molformer, df_keller_cor_molformer = pipeline_regression(embeddings,fmri_data_y_mean[:,y_i],times,n_components=n_components)\n",
    "            df_keller_mse_molformers.append(df_keller_mse_molformer)\n",
    "            df_keller_cor_molformers.append(df_keller_cor_molformer)\n",
    "        \n",
    "    corrs_molformer.append(df_keller_cor_molformers)\n",
    "    mses_molformer.append(df_keller_mse_molformers)\n",
    "\n",
    "    return corrs_molformer,mses_molformer"
   ],
   "outputs": []
  },
  {
   "cell_type": "code",
   "execution_count": 25,
   "id": "37fe0d81-6789-48eb-98b1-789cd539913e",
   "metadata": {},
   "source": [
    "# # input_file_keller_molformer = '/local_storage/datasets/farzaneh/alignment_olfaction_datasets/curated_datasets/embeddings/molformer/sagar_molformer_embeddings_'+str(0)+'_Apr17.csv'\n",
    "# d_test = pd.read_csv(input_file_keller_molformer)\n",
    "# d_test['embeddings'].iloc[0]\n",
    "# d_test[d_test['subject']==1]['embeddings']"
   ],
   "outputs": []
  },
  {
   "cell_type": "code",
   "execution_count": 26,
   "id": "c97f4f02-0754-4ca1-8799-932606161a53",
   "metadata": {},
   "source": [
    "# d_test[d_test['subject']==2]['embeddings']"
   ],
   "outputs": []
  },
  {
   "cell_type": "code",
   "execution_count": 27,
   "id": "c1c08993-c47d-4ae0-b2fd-ff5ffdd3af87",
   "metadata": {},
   "source": [
    "# d_test[d_test['subject']==3]['embeddings']"
   ],
   "outputs": []
  },
  {
   "cell_type": "code",
   "execution_count": 28,
   "id": "278e4699-3d37-41af-b026-8716002825b5",
   "metadata": {},
   "source": [
    "def convert_fmri_data(data):\n",
    "    datas=[]\n",
    "    \n",
    "    for data in data_list:\n",
    "        array_str=data\n",
    "        array_str = array_str.replace(\"[array(\", \"\").replace(\"\\n\", \"\").replace(\")]\", \"\")\n",
    "        array_np = np.array(ast.literal_eval(array_str))\n",
    "        datas.append(array_np)\n",
    "    # datas.shape\n",
    "    return np.asarray(datas)\n",
    "# Evaluating the string as a Python expression and converting it into a numpy array\n",
    "# array_np\n",
    "# data=np.array(selected_subject['OFC'].to_list())\n",
    "# data.shape\n",
    "# selected_subject['OFC'].to_list()"
   ],
   "outputs": []
  },
  {
   "cell_type": "code",
   "execution_count": 29,
   "id": "b3198024-6e46-4355-8700-51ef56a019c4",
   "metadata": {},
   "source": [
    "# input_files = ['/local_storage/datasets/farzaneh/alignment_olfaction_datasets/curated_datasets/embeddings/pom/sagar_pom_embeddings_Apr17.csv',\n",
    "#               '/local_storage/datasets/farzaneh/alignment_olfaction_datasets/curated_datasets/embeddings/molformer/sagar_molformer_embeddings_Apr17.csv'\n",
    "#               ]"
   ],
   "outputs": []
  },
  {
   "cell_type": "code",
   "execution_count": 30,
   "id": "655475da-f0a0-44a6-af72-e1087f40a7dc",
   "metadata": {},
   "source": [
    "# # corrs_molfomers_a = np.asarray(corrs_molfomers) \n",
    "# corrs_molfomers_squeezed = np.squeeze(np.asarray(corrs_molfomers[0]),0)\n",
    "# corrs_molfomers_squeezed = np.squeeze(corrs_molfomers_squeezed,-1)\n",
    "# corrs_molfomers_squeezed\n",
    "# 6,1,101,10,1"
   ],
   "outputs": []
  },
  {
   "cell_type": "code",
   "execution_count": null,
   "id": "22df5788-fa5b-4f4b-86a8-6359c6195c71",
   "metadata": {},
   "source": [
    "seed=2024\n",
    "\n",
    "# def extract_x_y(subject,area,input)\\\n",
    "corrs_molfomers=[]\n",
    "mses_molformers=[]\n",
    "results_df_all = pd.DataFrame()\n",
    "\n",
    "for subject in [2,3]:\n",
    "    for roi in ['OFC']:\n",
    "\n",
    "# for subject in [1,2]:\n",
    "    # for roi in ['PirF','PirT','OFC']:\n",
    "        corrs_molfomer,mses_molformer = compute_correlation_keller(subject=subject,roi=roi,times=30 ,n_components=20,per_descritor=False)\n",
    "\n",
    "        corrs_molfomer_squeezed = np.squeeze(np.asarray(corrs_molfomer),0)\n",
    "        corrs_molfomer_squeezed = np.squeeze(corrs_molfomer_squeezed,-2)\n",
    "         # corrs_molfomers.append(corrs_molfomer_squeezed)   \n",
    "        \n",
    "        mses_molfomer_squeezed = np.squeeze(np.asarray(mses_molformer),0)\n",
    "        mses_molfomer_squeezed = np.squeeze(mses_molfomer_squeezed,-1)\n",
    "    \n",
    "        # data_dict = {'mse': mses_molfomer_squeezed , \"corr\": corrs_molfomer_squeezed}\n",
    "        # data_df = pd.DataFrame.from_dict(data_dict)\n",
    "        # data_df.to_csv(roi +\"_\"+ str(subject)+ \"fmri.csv\")\n",
    "        statistic= corrs_molfomer_squeezed[:,:,0]\n",
    "        p_value= corrs_molfomer_squeezed[:,:,1]\n",
    "        p_value_df = pd.DataFrame.from_dict(p_value)\n",
    "        p_value_df['fmri_index'] = p_value_df.index\n",
    "        p_value_df['data'] = \"p_value\"\n",
    "        statistics_df = pd.DataFrame.from_dict(statistic)\n",
    "        statistics_df['fmri_index'] = statistics_df.index\n",
    "        statistics_df['data'] = \"statistic\"\n",
    "        mses_df = pd.DataFrame.from_dict(mses_molfomer_squeezed)\n",
    "        mses_df['fmri_index'] = mses_df.index\n",
    "        mses_df['data'] = \"mse\"\n",
    "        results_df = pd.concat([p_value_df, statistics_df])\n",
    "        results_df = pd.concat([results_df, mses_df])\n",
    "        results_df[\"roi\"] = roi\n",
    "        results_df[\"subject\"] = subject\n",
    "        results_df.to_csv('fmri_'+str(subject)+'_'+roi+'.csv', index=False)  \n",
    "        results_df_all = pd.concat([results_df, results_df_all])\n",
    "        \n",
    "\n",
    "\n",
    "    \n",
    "\n",
    "    \n",
    "    # mses_molformers.append(mses_molfomer_squeezed)   \n",
    "\n",
    "        "
   ],
   "outputs": []
  },
  {
   "cell_type": "code",
   "execution_count": null,
   "id": "ed0bbafa-0c76-46e4-87db-bcf329444253",
   "metadata": {},
   "source": [
    "results_df_all.to_csv('fmri_all.csv', index=False)  "
   ],
   "outputs": []
  },
  {
   "cell_type": "code",
   "execution_count": null,
   "id": "16a44f02-c247-46f4-a958-f13728daa11a",
   "metadata": {},
   "source": [],
   "outputs": []
  },
  {
   "cell_type": "code",
   "execution_count": null,
   "id": "8bba616e-21b5-40df-8b9a-4b2ce05551e2",
   "metadata": {},
   "source": [],
   "outputs": []
  },
  {
   "cell_type": "code",
   "execution_count": null,
   "id": "78c70c5f-46cf-4af8-adcd-1926518b4b41",
   "metadata": {},
   "source": [],
   "outputs": []
  },
  {
   "cell_type": "code",
   "execution_count": null,
   "id": "77901316-5c71-4423-bbf0-3f7a262260e0",
   "metadata": {},
   "source": [],
   "outputs": []
  },
  {
   "cell_type": "code",
   "execution_count": null,
   "id": "d08c7182-1128-46f4-b0fc-2344c1c28c37",
   "metadata": {},
   "source": [],
   "outputs": []
  },
  {
   "cell_type": "code",
   "execution_count": null,
   "id": "825393b8-11a8-4768-8687-15e3ea84f4b4",
   "metadata": {},
   "source": [
    "# corrs_molfomer_squeezed = np.squeeze(np.asarray(corrs_molfomer),0)\n",
    "# corrs_molfomer_squeezed = np.squeeze(corrs_molfomer_squeezed,-2)\n",
    "#  # corrs_molfomers.append(corrs_molfomer_squeezed)   \n",
    "\n",
    "# mses_molfomer_squeezed = np.squeeze(np.asarray(mses_molformer),0)\n",
    "# mses_molfomer_squeezed = np.squeeze(mses_molfomer_squeezed,-1)\n",
    "\n",
    "# data_dict = {'mse': mses_molfomer_squeezed , \"corr\": corrs_molfomer_squeezed}\n",
    "# data_df = pd.DataFrame.from_dict(data_dict)\n",
    "# data_df.to_csv(roi +\"_\"+ str(subject)+ \"fmri.csv\")"
   ],
   "outputs": []
  },
  {
   "cell_type": "code",
   "execution_count": null,
   "id": "2d125804-b55d-4510-8c11-96fa38b57af1",
   "metadata": {},
   "source": [
    "np.asarray(mses_molformer).shape \n"
   ],
   "outputs": []
  },
  {
   "cell_type": "code",
   "execution_count": null,
   "id": "289c5e21-e1dd-4544-96ea-d20b1cc26709",
   "metadata": {},
   "source": [],
   "outputs": []
  }
 ],
 "metadata": {
  "kernelspec": {
   "display_name": "Python 3 (ipykernel)",
   "language": "python",
   "name": "python3"
  },
  "language_info": {
   "codemirror_mode": {
    "name": "ipython",
    "version": 3
   },
   "file_extension": ".py",
   "mimetype": "text/x-python",
   "name": "python",
   "nbconvert_exporter": "python",
   "pygments_lexer": "ipython3",
   "version": "3.8.18"
  }
 },
 "nbformat": 4,
 "nbformat_minor": 5
}
