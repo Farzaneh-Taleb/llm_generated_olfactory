{
 "cells": [
  {
   "cell_type": "markdown",
   "metadata": {
    "pycharm": {
     "name": "#%% md\n"
    },
    "tags": []
   },
   "source": [
    "# Load checkpoint and imports"
   ]
  },
  {
   "cell_type": "code",
   "metadata": {
    "pycharm": {
     "name": "#%%\n"
    },
    "ExecuteTime": {
     "end_time": "2024-07-02T14:51:08.722271Z",
     "start_time": "2024-07-02T14:51:08.711852Z"
    }
   },
   "source": [
    "import sys\n",
    "import warnings\n",
    "warnings.filterwarnings('ignore')\n",
    "# !{sys.executable} -m pip install seaborn"
   ],
   "outputs": [],
   "execution_count": 1
  },
  {
   "metadata": {
    "ExecuteTime": {
     "end_time": "2024-07-02T14:51:08.812831Z",
     "start_time": "2024-07-02T14:51:08.724520Z"
    }
   },
   "cell_type": "code",
   "source": [
    "parent_dir = \"/Midgard/home/farzantn/phd/Olfaction/MoLFormer_N2024\"\n",
    "sys.path.append(parent_dir)\n",
    "parent_dir=\"/Midgard/home/farzantn/mambaforge/envs/MolTran_CUDA11_cuda/lib/python3.8\"\n",
    "sys.path.append(parent_dir)"
   ],
   "outputs": [],
   "execution_count": 2
  },
  {
   "cell_type": "code",
   "metadata": {
    "collapsed": false,
    "jupyter": {
     "outputs_hidden": false
    },
    "pycharm": {
     "name": "#%%\n"
    },
    "ExecuteTime": {
     "end_time": "2024-07-02T14:51:18.067085Z",
     "start_time": "2024-07-02T14:51:08.814538Z"
    }
   },
   "source": [
    "import pandas as pd\n",
    "import numpy as np\n",
    "from sklearn.model_selection import cross_validate,train_test_split\n",
    "import ast\n",
    "from sklearn.metrics import roc_auc_score, mean_squared_error\n",
    "import scipy\n",
    "import os\n",
    "from sklearn.decomposition import PCA\n",
    "base_path = '/local_storage/datasets/farzaneh/alignment_olfaction_datasets/'\n",
    "from sklearn.preprocessing import StandardScaler\n",
    "from utils.util_alignment import set_seeds\n",
    "from utils.prepare_datasets import prepare_dataset,select_features\n",
    "from utils.helper_methods import custom_linear_regression,pipeline_regression\n",
    "from constants import *"
   ],
   "outputs": [
    {
     "name": "stderr",
     "output_type": "stream",
     "text": [
      "Skipped loading some Tensorflow models, missing a dependency. No module named 'tensorflow'\n",
      "Skipped loading modules with pytorch-geometric dependency, missing a dependency. No module named 'torch_geometric'\n",
      "Skipped loading modules with pytorch-geometric dependency, missing a dependency. cannot import name 'DMPNN' from 'deepchem.models.torch_models' (/Midgard/home/farzantn/mambaforge/envs/Mol/lib/python3.8/site-packages/deepchem/models/torch_models/__init__.py)\n",
      "Skipped loading some Jax models, missing a dependency. No module named 'jax'\n"
     ]
    }
   ],
   "execution_count": 3
  },
  {
   "cell_type": "code",
   "metadata": {
    "pycharm": {
     "name": "#%%\n"
    },
    "ExecuteTime": {
     "end_time": "2024-07-02T14:51:18.075915Z",
     "start_time": "2024-07-02T14:51:18.070075Z"
    }
   },
   "source": [
    "seed= 2024\n",
    "set_seeds(seed)"
   ],
   "outputs": [],
   "execution_count": 4
  },
  {
   "cell_type": "code",
   "metadata": {
    "collapsed": false,
    "jupyter": {
     "outputs_hidden": false
    },
    "pycharm": {
     "name": "#%%\n"
    },
    "ExecuteTime": {
     "end_time": "2024-07-02T14:51:18.081735Z",
     "start_time": "2024-07-02T14:51:18.077890Z"
    }
   },
   "source": [
    "times=30\n",
    "n_components=20"
   ],
   "outputs": [],
   "execution_count": 5
  },
  {
   "cell_type": "markdown",
   "metadata": {
    "collapsed": false,
    "jupyter": {
     "outputs_hidden": false
    },
    "pycharm": {
     "name": "#%% md\n"
    }
   },
   "source": [
    "# Helper Methods"
   ]
  },
  {
   "cell_type": "code",
   "metadata": {
    "collapsed": false,
    "jupyter": {
     "outputs_hidden": false
    },
    "pycharm": {
     "name": "#%%\n"
    },
    "ExecuteTime": {
     "end_time": "2024-07-02T14:51:18.088654Z",
     "start_time": "2024-07-02T14:51:18.083659Z"
    }
   },
   "source": [
    "def literal_eval_list(list_string):\n",
    "    list_string_temp=list_string.values.tolist()\n",
    "    list_string_all = []\n",
    "    for value in list_string_temp:\n",
    "        list_string_all.append(ast.literal_eval(value))\n",
    "    \n",
    "    list_numpy = np.asarray(list_string_all)\n",
    "    return list_numpy\n"
   ],
   "outputs": [],
   "execution_count": 6
  },
  {
   "metadata": {
    "ExecuteTime": {
     "end_time": "2024-07-02T14:51:18.097552Z",
     "start_time": "2024-07-02T14:51:18.090567Z"
    }
   },
   "cell_type": "code",
   "source": [
    "def grand_average(df,ds):\n",
    "    \n",
    "    if ds==\"keller\":\n",
    "        descriptors=keller_descriptors\n",
    "       \n",
    "    elif ds==\"sagar\":\n",
    "        descriptors=sagar_descriptors\n",
    "    elif ds==\"dravinsk\":\n",
    "        descriptors=dravinsk_descriptors\n",
    "    else:\n",
    "        raise ValueError(\"Invalid dataset\")\n",
    "        \n",
    "        \n",
    "    df_groupbyCID=df.groupby('CID')[descriptors].mean().reset_index()\n",
    "\n",
    "    df_groupbyCID['y'] = df_groupbyCID.loc[:, '0.1':descriptors[-1]].values.tolist()\n",
    "    df_embeddings=df.drop_duplicates(subset=['CID'])\n",
    "    df_embeddings=df_embeddings[['CID','embeddings']]\n",
    "    df_groupbyCID = pd.merge(df_groupbyCID, df_embeddings, on='CID', how='left')\n",
    "    return df_groupbyCID"
   ],
   "outputs": [],
   "execution_count": 7
  },
  {
   "metadata": {
    "ExecuteTime": {
     "end_time": "2024-07-02T14:51:18.106432Z",
     "start_time": "2024-07-02T14:51:18.099280Z"
    }
   },
   "cell_type": "code",
   "source": [
    "def average_over_subject(df,ds):\n",
    "    if ds==\"keller\":\n",
    "        descriptors=keller_descriptors\n",
    "       \n",
    "    elif ds==\"sagar\":\n",
    "        descriptors=sagar_descriptors\n",
    "    elif ds==\"dravinsk\":\n",
    "        descriptors=dravinsk_descriptors\n",
    "    else:\n",
    "        raise ValueError(\"Invalid dataset\")\n",
    "        \n",
    "    df_groupbyCID=df.groupby(['CID','subject'])[descriptors].mean().reset_index()\n",
    "\n",
    "    df_groupbyCID['y'] = df_groupbyCID.loc[:, '0.1':descriptors[-1]].values.tolist()\n",
    "    df_embeddings=df.drop_duplicates(subset=['CID'])\n",
    "    df_embeddings=df_embeddings[['CID','embeddings']]\n",
    "    df_groupbyCID = pd.merge(df_groupbyCID, df_embeddings, on='CID', how='left')\n",
    "    return df_groupbyCID"
   ],
   "outputs": [],
   "execution_count": 8
  },
  {
   "cell_type": "code",
   "metadata": {
    "collapsed": false,
    "jupyter": {
     "outputs_hidden": false
    },
    "pycharm": {
     "name": "#%%\n"
    },
    "ExecuteTime": {
     "end_time": "2024-07-02T14:51:18.115489Z",
     "start_time": "2024-07-02T14:51:18.108214Z"
    }
   },
   "source": [
    "def metrics_per_descritor(X,y,linreg):\n",
    "    predicted=linreg.predict(X)\n",
    "    mseerrors = []\n",
    "    correlations = []\n",
    "    if len(y.shape)>1:\n",
    "        for i in range(y.shape[1]):\n",
    "            mseerror=mean_squared_error(predicted[:,i],y[:,i])\n",
    "            correlation=scipy.stats.pearsonr(predicted[:,i], y[:,i])\n",
    "            mseerrors.append(mseerror)\n",
    "            correlations.append(correlation)\n",
    "            # print(predicted[:,i], y[:,i])\n",
    "        \n",
    "    else:\n",
    "        mseerror=mean_squared_error(predicted,y)\n",
    "        correlation=scipy.stats.pearsonr(predicted, y)\n",
    "        mseerrors.append(mseerror)\n",
    "        correlations.append(correlation)\n",
    "     # print(predicted[:,i], y[:,i])\n",
    "    \n",
    "    return predicted, mseerrors, correlations\n",
    "        # plot()\n",
    "        \n",
    "    \n",
    "    "
   ],
   "outputs": [],
   "execution_count": 9
  },
  {
   "cell_type": "code",
   "metadata": {
    "collapsed": false,
    "jupyter": {
     "outputs_hidden": false
    },
    "pycharm": {
     "name": "#%%\n"
    },
    "ExecuteTime": {
     "end_time": "2024-07-02T14:51:18.126882Z",
     "start_time": "2024-07-02T14:51:18.120369Z"
    }
   },
   "source": [
    "def post_process_results_df(mserrorrs_corssvalidated,correlations_corssvalidated):\n",
    "    mserrorrs_corssvalidated_array = np.asarray(mserrorrs_corssvalidated) \n",
    "    if len(mserrorrs_corssvalidated_array.shape)==3:\n",
    "        mserrorrs_corssvalidated_array = np.squeeze(mserrorrs_corssvalidated_array,-1)\n",
    "        mserrorrs_corssvalidated_array = np.moveaxis(mserrorrs_corssvalidated_array, 0,1)\n",
    "    # print(mserrorrs_corssvalidated_array.shape,\"shapeeee1\")\n",
    "    \n",
    "    correlations_corssvalidated = np.asarray(correlations_corssvalidated)\n",
    "    if len(correlations_corssvalidated.shape)==4:\n",
    "        correlations_corssvalidated = np.moveaxis(correlations_corssvalidated, 0,1)\n",
    "        # print(\"correlations_corssvalidateds\",correlations_corssvalidated.shape)\n",
    "        correlations_corssvalidated = np.squeeze(correlations_corssvalidated,2)\n",
    "    # print(correlations_corssvalidated.shape,\"shapeeee2\")\n",
    "    statistics_correlations_corssvalidated_array = correlations_corssvalidated[:,:,0]\n",
    "    pvalues_correlations_corssvalidated_array = correlations_corssvalidated[:,:,1]\n",
    "\n",
    "    return mserrorrs_corssvalidated_array,statistics_correlations_corssvalidated_array,pvalues_correlations_corssvalidated_array\n",
    "    "
   ],
   "outputs": [],
   "execution_count": 10
  },
  {
   "metadata": {
    "ExecuteTime": {
     "end_time": "2024-07-02T14:51:18.138401Z",
     "start_time": "2024-07-02T14:51:18.128800Z"
    }
   },
   "cell_type": "code",
   "source": [
    "def train_and_eval(data_groupbyCID,times,n_components=None,y_i=None):\n",
    "    mserrorrs_corssvalidated = []\n",
    "    correlations_corssvalidated = []\n",
    "    predicteds = []\n",
    "    y_tests = []\n",
    "    runs = []\n",
    "    CIDs = []\n",
    "    \n",
    "    X=np.asarray(data_groupbyCID.embeddings.values.tolist())\n",
    "    if y_i is not None:\n",
    "        y=np.asarray(data_groupbyCID.y.values.tolist())[:,y_i].reshape(-1,1)\n",
    "    else:\n",
    "       y=np.asarray(data_groupbyCID.y.values.tolist())\n",
    "    for i in range(times):\n",
    "        X_train, X_test, y_train, y_test,CID_train, CID_test = train_test_split(X, y,data_groupbyCID.CID, test_size=0.2, random_state=seed+i) \n",
    "        linreg,X_test = pipeline_regression(X_train,y_train,X_test,custom_linear_regression,seed,n_components=n_components)\n",
    "        \n",
    "        predicted, mseerrors, correlations=metrics_per_descritor(X_test,y_test,linreg)\n",
    "        mserrorrs_corssvalidated.append(mseerrors)\n",
    "        correlations_corssvalidated.append(correlations)\n",
    "        predicteds.extend(predicted)\n",
    "        y_tests.extend(y_test)\n",
    "        runs.extend([i]*len(y_test))\n",
    "        CIDs.extend(CID_test)\n",
    "        \n",
    "        \n",
    "    return CIDs,predicteds,y_tests,runs,mserrorrs_corssvalidated, correlations_corssvalidated"
   ],
   "outputs": [],
   "execution_count": 11
  },
  {
   "cell_type": "code",
   "metadata": {
    "ExecuteTime": {
     "end_time": "2024-07-02T14:51:18.149883Z",
     "start_time": "2024-07-02T14:51:18.140304Z"
    }
   },
   "source": [
    "def min_max_extraction(data_groupbyCID,times,y_i=None):\n",
    "    min_max_dfs = []\n",
    "    X=np.asarray(data_groupbyCID.embeddings.values.tolist())\n",
    "    if y_i is not None:\n",
    "        y=np.asarray(data_groupbyCID.y.values.tolist())[:,y_i].reshape(-1,1)\n",
    "    else:\n",
    "       y=np.asarray(data_groupbyCID.y.values.tolist())\n",
    "    for i in range(times):\n",
    "        \n",
    "        X_train, X_test, y_train, y_test = train_test_split(X, y, test_size=0.2, random_state=seed+i)  \n",
    "        # print(X_train.shape,\"x shape\")\n",
    "        # print(y_train.shape,\"y shape\")\n",
    "        df = pd.DataFrame(y_test)\n",
    "\n",
    "        # Step 3: Extract the min and max values for each column\n",
    "        min_values = df.min()\n",
    "        max_values = df.max()\n",
    "\n",
    "       # Create DataFrames for min and max values with an additional column for the label\n",
    "        min_df = pd.DataFrame(min_values).T\n",
    "        min_df['Type'] = 'Min'\n",
    "    \n",
    "        max_df = pd.DataFrame(max_values).T\n",
    "        max_df['Type'] = 'Max'\n",
    "    \n",
    "        # Concatenate the min and max DataFrames\n",
    "        min_max_df = pd.concat([min_df, max_df])\n",
    "        min_max_df['Dataset'] = i\n",
    "    \n",
    "        # Append the concatenated DataFrame to the lis\n",
    "    \n",
    "        # Append the min_max_df to the list\n",
    "        min_max_dfs.append(min_max_df)\n",
    "    \n",
    "    final_df = pd.concat(min_max_dfs)   \n",
    "        # Step 4: Create a new DataFrame with the min and max values per column\n",
    "    final_df.set_index(['Dataset', 'Type'], inplace=True)\n",
    "    # min_max_df = pd.DataFrame([min_values, max_values], index=['Min', 'Max'])\n",
    "        \n"
   ],
   "outputs": [],
   "execution_count": 12
  },
  {
   "cell_type": "code",
   "metadata": {
    "collapsed": false,
    "jupyter": {
     "outputs_hidden": false
    },
    "pycharm": {
     "name": "#%%\n"
    },
    "ExecuteTime": {
     "end_time": "2024-07-02T14:51:18.164493Z",
     "start_time": "2024-07-02T14:51:18.151750Z"
    }
   },
   "source": [
    "def pipeline(model_name,input_file,input_file_alva=None,times=30,n_components=None,ds=\"keller\",count=False):\n",
    "    # input_file_keller = base_path+'openpom/data/curated_datasets/embeddings/molformer/keller_molformer_embeddings_13_Apr17.csv'\n",
    "    df=pd.read_csv(input_file)\n",
    "    df=prepare_dataset(df,'embeddings','y')\n",
    "    df_groupbyCID=grand_average(df,ds)\n",
    "    df_groupbyCIDSubject=average_over_subject(df,ds)\n",
    "    \n",
    "    \n",
    "\n",
    "    if input_file_alva is not None:\n",
    "        \n",
    "        df_alva = select_features(input_file_alva)\n",
    "        df_alva = df_alva.drop_duplicates(subset=['CID'])\n",
    "        del df_groupbyCID['embeddings']\n",
    "        df_groupbyCID= pd.merge(df_alva,df_groupbyCID,on=\"CID\")\n",
    "    \n",
    "        \n",
    "    \n",
    "    if count:\n",
    "        min_max_df=min_max_extraction(df_groupbyCID,times)\n",
    "        return min_max_df\n",
    "    else:\n",
    "        CIDs, predicteds, y_tests,runs, mserrorrs_df_corssvalidated, correlations_df_corssvalidated=train_and_eval(df_groupbyCID,times=times,n_components=n_components)\n",
    "   \n",
    "    mserrorrs_corssvalidated_df,statistics_correlations_corssvalidated_df,pvalues_correlations_corssvalidated_df=post_process_results_df(mserrorrs_df_corssvalidated, correlations_df_corssvalidated)\n",
    "    df_df_mse= pd.DataFrame(mserrorrs_corssvalidated_df)\n",
    "    # df_df_mse = df_df_mse.T\n",
    "    df_df_mse['model'] = model_name\n",
    "    df_df_cor= pd.DataFrame(statistics_correlations_corssvalidated_df)\n",
    "    df_df_cor['model'] = model_name\n",
    "    print(np.asarray(predicteds).shape,np.asarray(y_tests).shape, np.asarray(runs).shape, np.asarray(CIDs).shape)\n",
    "    \n",
    "    # I want to make a dataframe with the predicted values, the true values and the run number for each prediction, (192, 22) (192, 22) (192,) should be converted to (196, 22+22+1), \n",
    "    df_predictions = pd.DataFrame(np.concatenate([np.asarray(CIDs).reshape(-1,1),np.asarray(predicteds),np.asarray(y_tests),np.asarray(runs).reshape(-1,1)],axis=1))\n",
    "    df_predictions['model'] = model_name\n",
    "    #and add a prefix to the columns to indicate the predicted vs true values\n",
    "    tasks_length = len(sagar_tasks) if ds=='sagar' else len(keller_tasks)\n",
    "    df_predictions.columns = ['CID']+[str(i)+'_predicted' for i in range(tasks_length)]+[str(i)+'_true' for i in range(tasks_length,int(tasks_length*2))]+['run']+['model']\n",
    "    \n",
    "    # df_predictions = pd.DataFrame(np.concatenate([np.asarray(predicteds),np.asarray(y_tests),np.asarray(runs).reshape(-1,1)],axis=1))\n",
    "    # df_predictions['model'] = model_name\n",
    "    \n",
    "    \n",
    "    return df_predictions,df_df_mse, df_df_cor"
   ],
   "outputs": [],
   "execution_count": 13
  },
  {
   "cell_type": "code",
   "metadata": {
    "collapsed": false,
    "jupyter": {
     "outputs_hidden": false
    },
    "pycharm": {
     "name": "#%%\n"
    },
    "ExecuteTime": {
     "end_time": "2024-07-02T14:51:18.173122Z",
     "start_time": "2024-07-02T14:51:18.165961Z"
    }
   },
   "source": [
    "def compute_correlation(times,n_components,input_file_molformer,input_file_pom,input_file_alva,ds=\"keller\"):\n",
    "    \n",
    "    \n",
    "    df_predictions_pom, df_keller_mse_pom, df_keller_cor_pom = pipeline('pom',input_file_pom,times=times,n_components=n_components,ds=ds)\n",
    "    \n",
    "    df_predictions_alva,df_keller_mse_alva, df_keller_cor_alva = pipeline('alva',input_file_pom,input_file_alva,times=times,n_components=n_components,ds=ds)\n",
    "\n",
    "    corrs_molformer=[]\n",
    "\n",
    "    mses_molformer=[]\n",
    "    df_predictions_molformers=[]\n",
    "\n",
    "    for i in [0,1,2,3,4,5,6,7,8,9,10,11,13]:\n",
    "        input_file_keller_molformer = input_file_molformer+str(i)+'_Apr17.csv'\n",
    "    # for i in [0,13]:\n",
    "\n",
    "        df_predictions_molformer,df_keller_mse_molformer, df_keller_cor_molformer = pipeline('molformer',input_file_keller_molformer,times=times,n_components=n_components,ds=ds)\n",
    "        df_predictions_molformer['layer'] = i\n",
    "\n",
    "\n",
    "\n",
    "        corrs_molformer.append(df_keller_cor_molformer)\n",
    "        mses_molformer.append(df_keller_mse_molformer)\n",
    "        df_predictions_molformers.append(df_predictions_molformer)\n",
    "    \n",
    "       \n",
    "\n",
    "    df_predictions_pom['layer'] = 13\n",
    "    df_predictions_alva['layer'] = 13\n",
    "\n",
    "    return corrs_molformer,mses_molformer,df_keller_cor_pom,df_keller_mse_pom,df_keller_cor_alva,df_keller_mse_alva,df_predictions_molformers,df_predictions_pom,df_predictions_alva"
   ],
   "outputs": [],
   "execution_count": 14
  },
  {
   "cell_type": "code",
   "metadata": {
    "ExecuteTime": {
     "end_time": "2024-07-02T14:51:18.231415Z",
     "start_time": "2024-07-02T14:51:18.174864Z"
    }
   },
   "source": [
    "def count_df_x_keller(times ,per_descritor=False,ds=\"keller\"):\n",
    "\n",
    "    # for i in [0,13]:\n",
    "    if ds==\"keller\":\n",
    "        input_file_keller_molformer = base_path+'alignment_olfaction_datasets/data/curated_datasets/embeddings/molformer/keller_molformer_embeddings_'+str(13)+'_Apr17.csv'\n",
    "        min_max_df = pipeline('molformer',input_file_keller_molformer,times=times,n_components=n_components,count=True)\n",
    "    elif ds==\"sagar\":\n",
    "        input_file_sagar_molformer = base_path+'alignment_olfaction_datasets/data/curated_datasets/embeddings/molformer/sagar_molformer_embeddings_'+str(13)+'_Apr17.csv'\n",
    "        min_max_df = pipeline('molformer',input_file_sagar_molformer,times=times,n_components=n_components,ds=\"sagar\",count=True)\n",
    "\n",
    "\n",
    "\n",
    "\n",
    "    return min_max_df"
   ],
   "outputs": [],
   "execution_count": 15
  },
  {
   "cell_type": "code",
   "metadata": {
    "collapsed": false,
    "jupyter": {
     "outputs_hidden": false
    },
    "pycharm": {
     "name": "#%%\n"
    },
    "ExecuteTime": {
     "end_time": "2024-07-02T14:51:18.238741Z",
     "start_time": "2024-07-02T14:51:18.233231Z"
    }
   },
   "source": [
    "def post_process_tocsv(corrs,tasks):\n",
    "    corrs[0][\"layer\"]=0\n",
    "    corrss = corrs[0]\n",
    "    for i in range(1,13):\n",
    "        corrs[i][\"layer\"] = i\n",
    "        corrss  = pd.concat([corrss, corrs[i]])\n",
    "    del corrss['model']\n",
    "    corrss.columns = tasks+[\"layer\"]    \n",
    "    corrss['model']='molformer'\n",
    "    return corrss"
   ],
   "outputs": [],
   "execution_count": 16
  },
  {
   "cell_type": "code",
   "metadata": {
    "collapsed": false,
    "jupyter": {
     "outputs_hidden": false
    },
    "pycharm": {
     "name": "#%%\n"
    },
    "ExecuteTime": {
     "end_time": "2024-07-02T14:51:18.248305Z",
     "start_time": "2024-07-02T14:51:18.240525Z"
    }
   },
   "source": [
    "def save_data(ds,df_cor_pom,df_cor_alva,df_mse_pom,df_mse_alva,corrs_molfomer,mses_molformer):\n",
    "    if ds==\"keller\":\n",
    "        tasks= keller_tasks\n",
    "    elif ds==\"sagar\":\n",
    "        tasks= sagar_tasks\n",
    "    else:\n",
    "        raise ValueError(\"Invalid dataset\")\n",
    "    \n",
    "    df_cor_pom.columns = tasks+[\"model\"]\n",
    "    df_cor_pom.to_csv('df_'+ds+'_cor_pom.csv', index=False)  \n",
    "    \n",
    "    df_mse_pom.columns  = tasks+[\"model\"]\n",
    "    df_mse_pom.to_csv('df_'+ds+'_mse_pom.csv', index=False)  \n",
    "    \n",
    "    df_cor_alva.columns = tasks+[\"model\"]\n",
    "    df_cor_alva.to_csv('df_'+ds+'_cor_alva.csv', index=False)  \n",
    "    \n",
    "    df_mse_alva.columns = tasks+[\"model\"]\n",
    "    df_mse_alva.to_csv('df_'+ds+'_mse_alva.csv', index=False)   \n",
    "    \n",
    "    corrs_molfomer_df = post_process_tocsv(corrs_molfomer,tasks)\n",
    "    corrs_molfomer_df.to_csv('df_'+ds+'_corrs_molfomer.csv', index=False)   \n",
    "    \n",
    "    mses_molformer_df = post_process_tocsv(mses_molformer,tasks)\n",
    "    mses_molformer_df.to_csv('df_'+ds+'_mses_molfomer.csv', index=False)   "
   ],
   "outputs": [],
   "execution_count": 17
  },
  {
   "metadata": {
    "ExecuteTime": {
     "end_time": "2024-07-02T14:51:18.256975Z",
     "start_time": "2024-07-02T14:51:18.250077Z"
    }
   },
   "cell_type": "code",
   "source": [
    "def save_predictions(df_predictions,ds):\n",
    "    if ds==\"keller\":\n",
    "        tasks= keller_tasks\n",
    "    elif ds==\"sagar\":\n",
    "        tasks= sagar_tasks\n",
    "    else:\n",
    "        raise ValueError(\"Invalid dataset\")\n",
    "    df_predictions = df_predictions.rename(columns=dict(zip(df_predictions.columns[1:len(tasks)+1], [tasks[i]+\"_predicted\" for i in range(len(tasks))])))\n",
    "    df_predictions = df_predictions.rename(columns=dict(zip(df_predictions.columns[len(tasks)+1:len(tasks)*2+1], [tasks[i]+\"_true\" for i in range(len(tasks))])))\n",
    "    \n",
    "    df_predictions.to_csv(ds+'_predictions.csv', index=False)"
   ],
   "outputs": [],
   "execution_count": 18
  },
  {
   "metadata": {
    "ExecuteTime": {
     "end_time": "2024-07-02T14:51:18.264153Z",
     "start_time": "2024-07-02T14:51:18.258758Z"
    }
   },
   "cell_type": "code",
   "source": [
    "def concat_dfs(df_predictions_molformers,df_predictions_pom,df_predictions_alva):\n",
    "    df_predictions = pd.concat([df_predictions_molformers[0],df_predictions_molformers[1],df_predictions_molformers[2],df_predictions_molformers[3],df_predictions_molformers[4],df_predictions_molformers[5],df_predictions_molformers[6],df_predictions_molformers[7],df_predictions_molformers[8],df_predictions_molformers[9],df_predictions_molformers[10],df_predictions_molformers[11],df_predictions_molformers[12],df_predictions_pom,df_predictions_alva])\n",
    "    return df_predictions"
   ],
   "outputs": [],
   "execution_count": 19
  },
  {
   "cell_type": "markdown",
   "metadata": {
    "collapsed": false,
    "jupyter": {
     "outputs_hidden": false
    },
    "pycharm": {
     "name": "#%% md\n"
    }
   },
   "source": [
    "# Extracting Representations"
   ]
  },
  {
   "cell_type": "markdown",
   "metadata": {
    "collapsed": false,
    "jupyter": {
     "outputs_hidden": false
    },
    "pycharm": {
     "name": "#%% md\n"
    }
   },
   "source": [
    "## Keller"
   ]
  },
  {
   "cell_type": "markdown",
   "metadata": {},
   "source": [
    "### Representations"
   ]
  },
  {
   "cell_type": "code",
   "metadata": {
    "collapsed": false,
    "jupyter": {
     "outputs_hidden": false,
     "is_executing": true
    },
    "pycharm": {
     "name": "#%%\n"
    },
    "ExecuteTime": {
     "start_time": "2024-07-02T14:51:18.265957Z"
    }
   },
   "source": [
    "input_file_keller_pom = base_path+'curated_datasets/embeddings/pom/keller_pom_embeddings_Apr17.csv'\n",
    "input_file_keller_alva = base_path+'curated_datasets/alva/keller_molecules_alva_17Apr.csv'\n",
    "input_file_keller_molformer = base_path+'curated_datasets/embeddings/molformer/keller_molformer_embeddings_'\n",
    "corrs_molfomer,mses_molformer,df_keller_cor_pom,df_keller_mse_pom,df_keller_cor_alva,df_keller_mse_alva,df_predictions_molformers,df_predictions_pom,df_predictions_alva =compute_correlation(times, n_components,input_file_keller_molformer,input_file_keller_pom,input_file_keller_alva,ds=\"keller\")"
   ],
   "outputs": [
    {
     "name": "stdout",
     "output_type": "stream",
     "text": [
      "(2880, 22) (2880, 22) (2880,) (2880,)\n",
      "(2880, 22) (2880, 22) (2880,) (2880,)\n",
      "(2880, 22) (2880, 22) (2880,) (2880,)\n",
      "(2880, 22) (2880, 22) (2880,) (2880,)\n",
      "(2880, 22) (2880, 22) (2880,) (2880,)\n",
      "(2880, 22) (2880, 22) (2880,) (2880,)\n",
      "(2880, 22) (2880, 22) (2880,) (2880,)\n"
     ]
    }
   ],
   "execution_count": null
  },
  {
   "metadata": {
    "jupyter": {
     "is_executing": true
    }
   },
   "cell_type": "code",
   "source": "",
   "outputs": [],
   "execution_count": null
  },
  {
   "metadata": {
    "jupyter": {
     "is_executing": true
    }
   },
   "cell_type": "code",
   "source": [
    "df_predictions = concat_dfs(df_predictions_molformers,df_predictions_pom,df_predictions_alva)\n",
    "save_predictions(df_predictions,ds=\"keller\")"
   ],
   "outputs": [],
   "execution_count": null
  },
  {
   "metadata": {
    "jupyter": {
     "is_executing": true
    }
   },
   "cell_type": "code",
   "source": "# pd.read_csv('kellerpredictions.csv')",
   "outputs": [],
   "execution_count": null
  },
  {
   "metadata": {
    "jupyter": {
     "is_executing": true
    }
   },
   "cell_type": "code",
   "source": "save_data(\"keller\",df_keller_cor_pom,df_keller_cor_alva,df_keller_mse_pom,df_keller_mse_alva,corrs_molfomer,mses_molformer)",
   "outputs": [],
   "execution_count": null
  },
  {
   "cell_type": "markdown",
   "metadata": {},
   "source": "## Sagar"
  },
  {
   "metadata": {},
   "cell_type": "markdown",
   "source": "### Representations\n"
  },
  {
   "cell_type": "code",
   "metadata": {
    "collapsed": false,
    "jupyter": {
     "outputs_hidden": false,
     "is_executing": true
    },
    "pycharm": {
     "name": "#%%\n"
    }
   },
   "source": [
    "input_file_sagar_pom = base_path+'curated_datasets/embeddings/pom/sagar_pom_embeddings_Apr17.csv'\n",
    "\n",
    "input_file_sagar_alva = base_path+'curated_datasets/alva/sagar_molecules_alva_17Apr.csv'\n",
    "input_file_sagar_molformer = base_path+'curated_datasets/embeddings/molformer/sagar_molformer_embeddings_'\n",
    "\n",
    "\n",
    "corrs_molfomer_sagar,mses_molformer_sagar,df_sagar_cor_pom,df_sagar_mse_pom,df_sagar_cor_alva,df_sagar_mse_alva,df_sagar_predictions_molformers,df_sagar_predictions_pom,df_sagar_predictions_alva =compute_correlation(times , n_components,input_file_sagar_molformer, input_file_sagar_pom,input_file_sagar_alva, ds=\"sagar\")"
   ],
   "outputs": [],
   "execution_count": null
  },
  {
   "metadata": {
    "jupyter": {
     "is_executing": true
    }
   },
   "cell_type": "code",
   "source": [
    "df_predictions_sagar = concat_dfs(df_sagar_predictions_molformers,df_sagar_predictions_pom,df_sagar_predictions_alva)\n",
    "save_predictions(df_predictions_sagar,ds=\"sagar\")"
   ],
   "outputs": [],
   "execution_count": null
  },
  {
   "cell_type": "code",
   "metadata": {
    "collapsed": false,
    "jupyter": {
     "outputs_hidden": false,
     "is_executing": true
    },
    "pycharm": {
     "name": "#%%\n"
    }
   },
   "source": "save_data(\"sagar\",df_sagar_cor_pom,df_sagar_cor_alva,df_sagar_mse_pom,df_sagar_mse_alva,corrs_molfomer_sagar,mses_molformer_sagar)\n",
   "outputs": [],
   "execution_count": null
  },
  {
   "cell_type": "code",
   "metadata": {
    "jupyter": {
     "is_executing": true
    }
   },
   "source": [
    "# min_max_df =count_df_x_keller(times ,per_descritor=False)\n",
    "# min_max_df.to_csv('keller_min_max.csv', index=True)   \n",
    "# \n",
    "# min_max_df =count_df_x_keller(times ,per_descritor=False,ds=\"sagar\")\n",
    "# min_max_df.to_csv('sagar_min_max.csv', index=True)   "
   ],
   "outputs": [],
   "execution_count": null
  },
  {
   "metadata": {},
   "cell_type": "markdown",
   "source": "## Draviensk "
  },
  {
   "metadata": {},
   "cell_type": "markdown",
   "source": "### Representations"
  },
  {
   "metadata": {
    "jupyter": {
     "is_executing": true
    }
   },
   "cell_type": "code",
   "source": [
    "input_file_dravinsk_pom = base_path+'curated_datasets/embeddings/pom/dravienks1985App1_pom_embeddings_Apr17.csv'\n",
    "input_file_dravinsk_alva = base_path+'curated_datasets/alva/dravienks1985App1_molecules_alva_17Apr.csv'\n",
    "input_file_dravinsk_molformer = base_path+'curated_datasets/embeddings/molformer/dravienks1985App1_molformer_embeddings_'\n",
    "\n",
    "corrs_molfomer_dravinsk,mses_molformer_dravinsk,df_dravinsk_cor_pom,df_dravinsk_mse_pom,df_dravinsk_cor_alva,df_dravinsk_mse_alva =compute_correlation(times , n_components,input_file_dravinsk_molformer,input_file_dravinsk_pom,input_file_dravinsk_alva,ds=\"dravinsk\")   \n"
   ],
   "outputs": [],
   "execution_count": null
  },
  {
   "metadata": {
    "jupyter": {
     "is_executing": true
    }
   },
   "cell_type": "code",
   "source": "save_data(\"dravienks1985App1\",df_dravinsk_cor_pom,df_dravinsk_cor_alva,df_dravinsk_mse_pom,df_dravinsk_mse_alva,corrs_molfomer_dravinsk,mses_molformer_dravinsk)",
   "outputs": [],
   "execution_count": null
  },
  {
   "metadata": {
    "jupyter": {
     "is_executing": true
    }
   },
   "cell_type": "code",
   "source": [
    "input_file_dravinsk_molformer = base_path+'curated_datasets/embeddings/molformer/dravienks1985App1_molformer_embeddings_13_Apr17.csv'\n",
    "file = pd.read_csv(input_file_dravinsk_molformer)"
   ],
   "outputs": [],
   "execution_count": null
  },
  {
   "metadata": {
    "jupyter": {
     "is_executing": true
    }
   },
   "cell_type": "code",
   "source": "",
   "outputs": [],
   "execution_count": null
  },
  {
   "metadata": {
    "jupyter": {
     "is_executing": true
    }
   },
   "cell_type": "code",
   "source": "# iffd",
   "outputs": [],
   "execution_count": null
  },
  {
   "metadata": {
    "jupyter": {
     "is_executing": true
    }
   },
   "cell_type": "code",
   "source": "",
   "outputs": [],
   "execution_count": null
  }
 ],
 "metadata": {
  "kernelspec": {
   "display_name": "Python 3 (ipykernel)",
   "language": "python",
   "name": "python3"
  },
  "language_info": {
   "codemirror_mode": {
    "name": "ipython",
    "version": 3
   },
   "file_extension": ".py",
   "mimetype": "text/x-python",
   "name": "python",
   "nbconvert_exporter": "python",
   "pygments_lexer": "ipython3",
   "version": "3.9.18"
  },
  "toc-autonumbering": true,
  "toc-showmarkdowntxt": true
 },
 "nbformat": 4,
 "nbformat_minor": 4
}
