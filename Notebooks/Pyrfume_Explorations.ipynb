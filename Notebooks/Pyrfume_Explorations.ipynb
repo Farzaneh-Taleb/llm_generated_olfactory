{
 "cells": [
  {
   "cell_type": "code",
   "id": "initial_id",
   "metadata": {
    "collapsed": true,
    "ExecuteTime": {
     "end_time": "2024-06-06T12:43:33.994660Z",
     "start_time": "2024-06-06T12:43:33.991608Z"
    }
   },
   "source": [
    "import pyrfume as pf\n",
    "import numpy as np\n",
    "import pandas as pd\n",
    "import matplotlib.pyplot as plt\n",
    "from IPython.display import display"
   ],
   "execution_count": 75,
   "outputs": []
  },
  {
   "metadata": {
    "ExecuteTime": {
     "end_time": "2024-06-06T12:24:47.809139Z",
     "start_time": "2024-06-06T12:24:47.804624Z"
    }
   },
   "cell_type": "code",
   "source": [
    "\n",
    "    \n",
    "def extract_csv_files(ds_name):\n",
    "    try:\n",
    "        manifest = pf.load_manifest(ds_name)\n",
    "    except:\n",
    "        print(f\"Could not load manifest for {ds_name}\")\n",
    "        return None\n",
    "    csv_files = {}\n",
    "    for file in manifest['processed']:\n",
    "        # print(file)\n",
    "        if file.endswith('.csv'):\n",
    "            try:\n",
    "                csv_files[file.split('.')[0]] = pf.load_data(ds_name + '/' + file)\n",
    "            except:\n",
    "                print(f\"Could not load {file}\")\n",
    "    return csv_files"
   ],
   "id": "fadb5a1bd2f95f14",
   "execution_count": 43,
   "outputs": []
  },
  {
   "metadata": {
    "ExecuteTime": {
     "end_time": "2024-06-06T12:26:07.869165Z",
     "start_time": "2024-06-06T12:26:07.864376Z"
    }
   },
   "cell_type": "code",
   "source": [
    "datasets = [\"aromadb\",\n",
    "\"bushdid_2014\",\n",
    "\"dravnieks_1985\",\n",
    "\"flavordb\",\n",
    "\"flavornet\",\n",
    "\"foodb\",\n",
    "\"freesolve\",\n",
    "\"ifra_2019\",\n",
    "\"keller_2012\",\n",
    "\"keller_2016\",\n",
    "\"manoel_2021\",\n",
    "\"nakayama_2022\",\n",
    "\"nat_geo_1986\",\n",
    "\"nhanes_2014\",\n",
    "\"ravia_2020\",\n",
    "\"sharma_2021b\",\n",
    "\"sigma_2014\",\n",
    "\"snitz_2013\",\n",
    "\"snitz_2019\",\n",
    "\"weiss_2012\"]"
   ],
   "id": "812892eb8b002ddb",
   "execution_count": 51,
   "outputs": []
  },
  {
   "metadata": {
    "ExecuteTime": {
     "end_time": "2024-06-06T12:28:27.212494Z",
     "start_time": "2024-06-06T12:28:15.272057Z"
    }
   },
   "cell_type": "code",
   "source": [
    "csv_files = {}\n",
    "for ds in datasets:\n",
    "    csv_files[ds] = extract_csv_files(ds)"
   ],
   "id": "d8d5da60d94739ba",
   "execution_count": 55,
   "outputs": []
  },
  {
   "metadata": {
    "ExecuteTime": {
     "end_time": "2024-06-06T12:43:37.426920Z",
     "start_time": "2024-06-06T12:43:37.293437Z"
    }
   },
   "cell_type": "code",
   "source": [
    "for ds in datasets:\n",
    "    csv_files_keys = csv_files[ds].keys()\n",
    "    for key in csv_files_keys:\n",
    "        # print(f\"{ds}: {key}\")\n",
    "        print(csv_files[ds][key].head())"
   ],
   "id": "28c1d01dd6f40e29",
   "execution_count": 76,
   "outputs": []
  },
  {
   "metadata": {
    "ExecuteTime": {
     "end_time": "2024-06-06T12:44:06.029821Z",
     "start_time": "2024-06-06T12:44:06.026655Z"
    }
   },
   "cell_type": "code",
   "source": [
    "def extract_file_per_ds(ds_name):\n",
    "    # ds = \"aromadb\"\n",
    "    csv_files_keys = csv_files[ds].keys()\n",
    "    for key in csv_files_keys:\n",
    "    # print(f\"{ds}: {key}\")\n",
    "        print(key)\n",
    "        display(csv_files[ds][key].head(5))\n"
   ],
   "id": "159fd4ab377e1989",
   "execution_count": 81,
   "outputs": []
  },
  {
   "metadata": {
    "ExecuteTime": {
     "end_time": "2024-06-06T12:44:06.793638Z",
     "start_time": "2024-06-06T12:44:06.614691Z"
    }
   },
   "cell_type": "code",
   "source": [
    "ds = \"aromadb\"\n",
    "extract_file_per_ds(ds)"
   ],
   "id": "7c3e9c3a60714983",
   "execution_count": 82,
   "outputs": []
  },
  {
   "metadata": {
    "ExecuteTime": {
     "end_time": "2024-06-06T12:44:09.182082Z",
     "start_time": "2024-06-06T12:44:09.162315Z"
    }
   },
   "cell_type": "code",
   "source": [
    "ds = \"bushdid_2014\"\n",
    "extract_file_per_ds(ds)"
   ],
   "id": "b42101fc39c18403",
   "execution_count": 83,
   "outputs": []
  },
  {
   "metadata": {
    "ExecuteTime": {
     "end_time": "2024-06-06T12:44:10.101384Z",
     "start_time": "2024-06-06T12:44:10.063326Z"
    }
   },
   "cell_type": "code",
   "source": [
    "ds = \"dravnieks_1985\"\n",
    "extract_file_per_ds(ds)"
   ],
   "id": "5d8c59b7287022fc",
   "execution_count": 84,
   "outputs": []
  },
  {
   "metadata": {
    "ExecuteTime": {
     "end_time": "2024-06-06T12:45:45.507638Z",
     "start_time": "2024-06-06T12:45:45.494609Z"
    }
   },
   "cell_type": "code",
   "source": [
    "ds = \"flavordb\"\n",
    "extract_file_per_ds(ds)"
   ],
   "id": "50f5d7221ca49e0",
   "execution_count": 85,
   "outputs": []
  },
  {
   "metadata": {
    "ExecuteTime": {
     "end_time": "2024-06-06T12:46:03.794260Z",
     "start_time": "2024-06-06T12:46:03.782576Z"
    }
   },
   "cell_type": "code",
   "source": [
    "ds = \"flavornet\"\n",
    "extract_file_per_ds(ds)"
   ],
   "id": "c0197960526bbe1f",
   "execution_count": 86,
   "outputs": []
  },
  {
   "metadata": {
    "ExecuteTime": {
     "end_time": "2024-06-06T12:46:08.183358Z",
     "start_time": "2024-06-06T12:46:08.165545Z"
    }
   },
   "cell_type": "code",
   "source": [
    "ds = \"foodb\"\n",
    "extract_file_per_ds(ds)"
   ],
   "id": "1d7efcde95c87bee",
   "execution_count": 87,
   "outputs": []
  },
  {
   "metadata": {
    "ExecuteTime": {
     "end_time": "2024-06-06T12:46:13.836775Z",
     "start_time": "2024-06-06T12:46:13.834469Z"
    }
   },
   "cell_type": "code",
   "source": "ds = \"freesolve\"",
   "id": "2ec48ee0a170478d",
   "execution_count": 88,
   "outputs": []
  },
  {
   "metadata": {
    "ExecuteTime": {
     "end_time": "2024-06-06T12:46:15.196452Z",
     "start_time": "2024-06-06T12:46:15.185181Z"
    }
   },
   "cell_type": "code",
   "source": "extract_file_per_ds(ds)",
   "id": "658e398c83186a80",
   "execution_count": 89,
   "outputs": []
  },
  {
   "metadata": {
    "ExecuteTime": {
     "end_time": "2024-06-06T12:46:27.728796Z",
     "start_time": "2024-06-06T12:46:27.716385Z"
    }
   },
   "cell_type": "code",
   "source": [
    "ds = \"ifra_2019\"\n",
    "extract_file_per_ds(ds)"
   ],
   "id": "30ed8f29552e88af",
   "execution_count": 91,
   "outputs": []
  },
  {
   "metadata": {
    "ExecuteTime": {
     "end_time": "2024-06-06T12:46:36.901411Z",
     "start_time": "2024-06-06T12:46:36.869529Z"
    }
   },
   "cell_type": "code",
   "source": [
    "ds = \"keller_2012\"\n",
    "extract_file_per_ds(ds)"
   ],
   "id": "d3109dc6f21cb3ac",
   "execution_count": 93,
   "outputs": []
  },
  {
   "metadata": {
    "ExecuteTime": {
     "end_time": "2024-06-06T12:47:00.336442Z",
     "start_time": "2024-06-06T12:47:00.312406Z"
    }
   },
   "cell_type": "code",
   "source": [
    "ds = \"keller_2016\"\n",
    "extract_file_per_ds(ds)"
   ],
   "id": "c065be3f4bde23d7",
   "execution_count": 95,
   "outputs": []
  },
  {
   "metadata": {
    "ExecuteTime": {
     "end_time": "2024-06-06T12:47:07.108514Z",
     "start_time": "2024-06-06T12:47:07.089518Z"
    }
   },
   "cell_type": "code",
   "source": [
    "ds= \"manoel_2021\"\n",
    "extract_file_per_ds(ds)"
   ],
   "id": "2d29c976de9bb953",
   "execution_count": 96,
   "outputs": []
  },
  {
   "metadata": {
    "ExecuteTime": {
     "end_time": "2024-06-06T12:47:11.775857Z",
     "start_time": "2024-06-06T12:47:11.761390Z"
    }
   },
   "cell_type": "code",
   "source": [
    "ds = \"nakayama_2022\"\n",
    "extract_file_per_ds(ds)"
   ],
   "id": "76e0b9466613b38e",
   "execution_count": 97,
   "outputs": []
  },
  {
   "metadata": {
    "ExecuteTime": {
     "end_time": "2024-06-06T12:47:15.960634Z",
     "start_time": "2024-06-06T12:47:15.933961Z"
    }
   },
   "cell_type": "code",
   "source": [
    "ds = \"nat_geo_1986\"\n",
    "extract_file_per_ds(ds)"
   ],
   "id": "8f3b49b2ea236b88",
   "execution_count": 98,
   "outputs": []
  },
  {
   "metadata": {
    "ExecuteTime": {
     "end_time": "2024-06-06T12:47:19.612119Z",
     "start_time": "2024-06-06T12:47:19.600243Z"
    }
   },
   "cell_type": "code",
   "source": [
    "ds = \"nhanes_2014\"\n",
    "extract_file_per_ds(ds)"
   ],
   "id": "78d4da46ea52912d",
   "execution_count": 99,
   "outputs": []
  },
  {
   "metadata": {
    "ExecuteTime": {
     "end_time": "2024-06-06T12:47:22.111417Z",
     "start_time": "2024-06-06T12:47:22.088385Z"
    }
   },
   "cell_type": "code",
   "source": [
    "ds = \"ravia_2020\"\n",
    "extract_file_per_ds(ds)"
   ],
   "id": "94e34e255bbc812c",
   "execution_count": 100,
   "outputs": []
  },
  {
   "metadata": {
    "ExecuteTime": {
     "end_time": "2024-06-06T12:47:32.666197Z",
     "start_time": "2024-06-06T12:47:32.635935Z"
    }
   },
   "cell_type": "code",
   "source": [
    "ds = \"sharma_2021b\"\n",
    "extract_file_per_ds(ds)"
   ],
   "id": "eb0d617619af0e64",
   "execution_count": 102,
   "outputs": []
  },
  {
   "metadata": {
    "ExecuteTime": {
     "end_time": "2024-06-06T12:47:38.830634Z",
     "start_time": "2024-06-06T12:47:38.800609Z"
    }
   },
   "cell_type": "code",
   "source": [
    "ds = \"sigma_2014\"\n",
    "extract_file_per_ds(ds)"
   ],
   "id": "a43fd6f9324136ad",
   "execution_count": 103,
   "outputs": []
  },
  {
   "metadata": {
    "ExecuteTime": {
     "end_time": "2024-06-06T12:47:43.048793Z",
     "start_time": "2024-06-06T12:47:43.009604Z"
    }
   },
   "cell_type": "code",
   "source": [
    "ds = \"snitz_2013\"\n",
    "extract_file_per_ds(ds)"
   ],
   "id": "baabf5021e55ae3",
   "execution_count": 104,
   "outputs": []
  },
  {
   "metadata": {
    "ExecuteTime": {
     "end_time": "2024-06-06T12:47:47.058178Z",
     "start_time": "2024-06-06T12:47:47.033448Z"
    }
   },
   "cell_type": "code",
   "source": [
    "ds = \"snitz_2019\"\n",
    "extract_file_per_ds(ds)"
   ],
   "id": "107c8e15b171ba6",
   "execution_count": 105,
   "outputs": []
  },
  {
   "metadata": {
    "ExecuteTime": {
     "end_time": "2024-06-06T12:47:50.251196Z",
     "start_time": "2024-06-06T12:47:50.234372Z"
    }
   },
   "cell_type": "code",
   "source": [
    "ds = \"weiss_2012\"\n",
    "extract_file_per_ds(ds)"
   ],
   "id": "f272e76429cdb30",
   "execution_count": 106,
   "outputs": []
  },
  {
   "metadata": {},
   "cell_type": "code",
   "execution_count": null,
   "source": "",
   "id": "12387ac33675e81a",
   "outputs": []
  }
 ],
 "metadata": {
  "kernelspec": {
   "display_name": "Python 3",
   "language": "python",
   "name": "python3"
  },
  "language_info": {
   "codemirror_mode": {
    "name": "ipython",
    "version": 2
   },
   "file_extension": ".py",
   "mimetype": "text/x-python",
   "name": "python",
   "nbconvert_exporter": "python",
   "pygments_lexer": "ipython2",
   "version": "2.7.6"
  }
 },
 "nbformat": 4,
 "nbformat_minor": 5
}
